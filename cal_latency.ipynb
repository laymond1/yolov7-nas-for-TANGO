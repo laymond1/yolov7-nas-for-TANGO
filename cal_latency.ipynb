{
 "cells": [
  {
   "cell_type": "code",
   "execution_count": 2,
   "metadata": {},
   "outputs": [
    {
     "data": {
      "application/vnd.jupyter.widget-view+json": {
       "model_id": "134af97c61d44652966cf4edf4a65112",
       "version_major": 2,
       "version_minor": 0
      },
      "text/plain": [
       "  0%|          | 0/2401 [00:00<?, ?it/s]"
      ]
     },
     "metadata": {},
     "output_type": "display_data"
    }
   ],
   "source": [
    "from nas.supernet.supernet_yolov7 import YOLOSuperNet\n",
    "from latency_predictor.arch_utils import *\n",
    "import time\n",
    "from os.path import join\n",
    "from tqdm.auto import tqdm\n",
    "\n",
    "device = 'cpu'\n",
    "supernet = YOLOSuperNet(cfg='./yaml/yolov7_dynamicsupernet.yml').to(device)\n",
    "# supernet.train()\n",
    "\n",
    "model_out_dir = './exported_models'\n",
    "\n",
    "backbone_lut = {}\n",
    "head_lut = {}\n",
    "\n",
    "BACKBONE_MAX_DEPTH = 6 # should be 6\n",
    "\n",
    "# cal. latency for backbone\n",
    "# progress_bar = tqdm(total = (BACKBONE_MAX_DEPTH-1)**4)\n",
    "# for i in range(1, BACKBONE_MAX_DEPTH):\n",
    "#     for j in range(1, BACKBONE_MAX_DEPTH):\n",
    "#         for k in range(1, BACKBONE_MAX_DEPTH):\n",
    "#             for m in range(1, BACKBONE_MAX_DEPTH):\n",
    "#                 supernet.set_active_subnet([i,j,k,m,1,1,1,1]) # Maximum: [5,5,5,5,7,7,7,7]\n",
    "#                 subnet = supernet.get_active_subnet()\n",
    "\n",
    "#                 b_arch, _, save = split_backbone_head(subnet)\n",
    "\n",
    "#                 # .pt 저장\n",
    "#                 backbone = skin_backbone(b_arch, save)\n",
    "#                 torch.save(backbone, join(model_out_dir, f'backbone_{i}_{j}_{k}_{m}.pt'))\n",
    "#                 progress_bar.update(1)\n",
    "\n",
    "#                 #########이부분이 galaxy 측정으로 대체되어야 함\n",
    "#                 backbone = skin_backbone(b_arch, save)\n",
    "#                 img = torch.rand(1, 3, 640, 640).to(device)\n",
    "#                 s = time.time()\n",
    "#                 y = backbone(img)\n",
    "#                 latency = (time.time()-s )*1000 # ms :: 실제로 측정할때는 1000 번이상 측정해서 평균값으로\n",
    "\n",
    "#                 backbone_lut[str(i)+str(j)+str(k)+str(m)] = latency\n",
    "\n",
    "# print(\"backbone completed\")\n",
    "\n",
    "HEAD_MAX_DEPTH = 8 # should be 8\n",
    "\n",
    "# cal. latency for head\n",
    "progress_bar = tqdm(total = (HEAD_MAX_DEPTH-1)**4)\n",
    "for i in range(1, HEAD_MAX_DEPTH):\n",
    "    for j in range(1, HEAD_MAX_DEPTH):\n",
    "        for k in range(1, HEAD_MAX_DEPTH):\n",
    "            for m in range(1, HEAD_MAX_DEPTH):\n",
    "                supernet.set_active_subnet([1,1,1,1,i,j,k,m]) # Maximum: [5,5,5,5,7,7,7,7]\n",
    "                subnet = supernet.get_active_subnet()\n",
    "\n",
    "                _, h_arch, save = split_backbone_head(subnet)\n",
    "\n",
    "                # .pt 저장\n",
    "                head = skin_head(h_arch, save)\n",
    "                torch.save(head, join(model_out_dir, f'head_{i}_{j}_{k}_{m}.pt'))\n",
    "                progress_bar.update(1)\n",
    "\n",
    "                #########이부분이 galaxy 측정으로 대체되어야 함\n",
    "                # head = skin_head(h_arch, save)\n",
    "                # img = torch.rand(1, 1024, 20, 20).to(device)\n",
    "                # s = time.time()\n",
    "                # y = head(img)\n",
    "                # latency = (time.time()-s )*1000 # ms :: 실제로 측정할때는 1000 번이상 측정해서 평균값으로\n",
    "\n",
    "                # head_lut[str(i)+str(j)+str(k)+str(m)] = latency\n",
    "\n",
    "\n"
   ]
  },
  {
   "cell_type": "code",
   "execution_count": 2,
   "metadata": {},
   "outputs": [],
   "source": [
    "import json\n",
    "\n",
    "file_path = \"latency_predictor/lut/head.json\"\n",
    "\n",
    "with open(file_path, 'w') as f:\n",
    "    json.dump(head_lut, f)"
   ]
  }
 ],
 "metadata": {
  "kernelspec": {
   "display_name": ".venv",
   "language": "python",
   "name": "python3"
  },
  "language_info": {
   "codemirror_mode": {
    "name": "ipython",
    "version": 3
   },
   "file_extension": ".py",
   "mimetype": "text/x-python",
   "name": "python",
   "nbconvert_exporter": "python",
   "pygments_lexer": "ipython3",
   "version": "3.9.16"
  },
  "orig_nbformat": 4
 },
 "nbformat": 4,
 "nbformat_minor": 2
}
