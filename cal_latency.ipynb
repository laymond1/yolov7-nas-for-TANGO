{
 "cells": [
  {
   "cell_type": "code",
   "execution_count": 1,
   "metadata": {},
   "outputs": [
    {
     "name": "stderr",
     "output_type": "stream",
     "text": [
      "d:\\codes_ETRI\\yolov7-nas-for-TANGO\\.venv\\lib\\site-packages\\tqdm\\auto.py:21: TqdmWarning: IProgress not found. Please update jupyter and ipywidgets. See https://ipywidgets.readthedocs.io/en/stable/user_install.html\n",
      "  from .autonotebook import tqdm as notebook_tqdm\n"
     ]
    }
   ],
   "source": [
    "from nas.supernet.supernet_yolov7 import YOLOSuperNet\n",
    "from latency_predictor.arch_utils import *\n",
    "import time\n",
    "\n",
    "device = 'cpu'\n",
    "supernet = YOLOSuperNet(cfg='./yaml/yolov7_dynamicsupernet.yml').to(device)\n",
    "supernet.train()\n",
    "\n",
    "backbone_lut = {}\n",
    "head_lut = {}\n",
    "\n",
    "# cal. latency for backbone\n",
    "# for i in range(1,6):\n",
    "#     for j in range(1,6):\n",
    "#         for k in range(1,6):\n",
    "#             for m in range(1,6):\n",
    "#                 supernet.set_active_subnet([i,j,k,m,1,1,1,1]) # Maximum: [5,5,5,5,7,7,7,7]\n",
    "#                 subnet = supernet.get_active_subnet()\n",
    "\n",
    "#                 b_arch, _, save = split_backbone_head(subnet)\n",
    "\n",
    "#                 #########이부분이 galaxy 측정으로 대체되어야 함\n",
    "#                 backbone = skin_backbone(b_arch, save)\n",
    "#                 img = torch.rand(1, 3, 640, 640).to(device)\n",
    "#                 s = time.time()\n",
    "#                 y = backbone(img)\n",
    "#                 latency = (time.time()-s )*1000 # ms :: 실제로 측정할때는 1000 번이상 측정해서 평균값으로\n",
    "\n",
    "#                 backbone_lut[str(i)+str(j)+str(k)+str(m)] = latency\n",
    "\n",
    "# print(\"backbone completed\")\n",
    "\n",
    "# cal. latency for head\n",
    "for i in range(1,8):\n",
    "    for j in range(1,8):\n",
    "        for k in range(1,8):\n",
    "            for m in range(1,8):\n",
    "                supernet.set_active_subnet([1,1,1,1,i,j,k,m]) # Maximum: [5,5,5,5,7,7,7,7]\n",
    "                subnet = supernet.get_active_subnet()\n",
    "\n",
    "                _, h_arch, save = split_backbone_head(subnet)\n",
    "\n",
    "                #########이부분이 galaxy 측정으로 대체되어야 함\n",
    "                head = skin_head(h_arch, save)\n",
    "                img = torch.rand(1, 1024, 20, 20).to(device)\n",
    "                s = time.time()\n",
    "                y = head(img)\n",
    "                latency = (time.time()-s )*1000 # ms :: 실제로 측정할때는 1000 번이상 측정해서 평균값으로\n",
    "\n",
    "                head_lut[str(i)+str(j)+str(k)+str(m)] = latency\n",
    "\n",
    "\n"
   ]
  },
  {
   "cell_type": "code",
   "execution_count": 2,
   "metadata": {},
   "outputs": [],
   "source": [
    "import json\n",
    "\n",
    "file_path = \"latency_predictor/lut/head.json\"\n",
    "\n",
    "with open(file_path, 'w') as f:\n",
    "    json.dump(head_lut, f)"
   ]
  }
 ],
 "metadata": {
  "kernelspec": {
   "display_name": ".venv",
   "language": "python",
   "name": "python3"
  },
  "language_info": {
   "codemirror_mode": {
    "name": "ipython",
    "version": 3
   },
   "file_extension": ".py",
   "mimetype": "text/x-python",
   "name": "python",
   "nbconvert_exporter": "python",
   "pygments_lexer": "ipython3",
   "version": "3.10.9"
  },
  "orig_nbformat": 4
 },
 "nbformat": 4,
 "nbformat_minor": 2
}
