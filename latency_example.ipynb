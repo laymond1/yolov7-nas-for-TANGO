{
 "cells": [
  {
   "cell_type": "code",
   "execution_count": 2,
   "metadata": {},
   "outputs": [
    {
     "name": "stdout",
     "output_type": "stream",
     "text": [
      "594.9294567108154\n"
     ]
    }
   ],
   "source": [
    "import json\n",
    "\n",
    "bfile_path = \"latency_predictor/lut/backbone.json\"\n",
    "hfile_path = \"latency_predictor/lut/head.json\"\n",
    "\n",
    "with open(bfile_path, \"r\") as f:\n",
    "    backbone_lut = json.load(f)\n",
    "with open(hfile_path, \"r\") as f:\n",
    "    head_lut = json.load(f)\n",
    "\n",
    "#example\n",
    "arch = {'d':[2,3,5,2,4,2,6,7]}\n",
    "\n",
    "d = arch['d']\n",
    "latency_b = backbone_lut[str(d[0]) + str(d[1]) + str(d[2]) + str(d[3])]\n",
    "latency_h = head_lut[str(d[4]) + str(d[5]) + str(d[6]) + str(d[7])]\n",
    "\n",
    "print(latency_b + latency_h)"
   ]
  }
 ],
 "metadata": {
  "kernelspec": {
   "display_name": ".venv",
   "language": "python",
   "name": "python3"
  },
  "language_info": {
   "codemirror_mode": {
    "name": "ipython",
    "version": 3
   },
   "file_extension": ".py",
   "mimetype": "text/x-python",
   "name": "python",
   "nbconvert_exporter": "python",
   "pygments_lexer": "ipython3",
   "version": "3.10.9"
  },
  "orig_nbformat": 4
 },
 "nbformat": 4,
 "nbformat_minor": 2
}
