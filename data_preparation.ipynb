{
 "cells": [
  {
   "cell_type": "code",
   "execution_count": null,
   "metadata": {},
   "outputs": [],
   "source": [
    "import random\n",
    "import json\n",
    "import torch\n",
    "\n",
    "target = 'head'\n",
    "\n",
    "with open(f'data/latency/galaxy_s10_cpu_{target}.json') as f:\n",
    "    n = len(json.load(f).keys())\n",
    "\n",
    "t = torch.tensor(sorted(random.sample(range(n), 10)))\n",
    "print(t)\n",
    "torch.save(t, f'data/{target}_hardware_embedding_index.pt')"
   ]
  },
  {
   "cell_type": "code",
   "execution_count": null,
   "metadata": {},
   "outputs": [],
   "source": [
    "import json\n",
    "import os\n",
    "\n",
    "import torch\n",
    "\n",
    "root_dir = 'data/latency'\n",
    "\n",
    "for path in os.listdir(root_dir):\n",
    "    if not path.endswith('.json'): continue\n",
    "\n",
    "    with open(os.path.join(root_dir, path)) as f:\n",
    "        data = json.load(f)\n",
    "        latencies = [value for _, value in sorted(data.items())]\n",
    "        torch.save(torch.tensor(latencies), os.path.join(root_dir, path)[:-5] + '.pt')"
   ]
  },
  {
   "cell_type": "code",
   "execution_count": null,
   "metadata": {},
   "outputs": [],
   "source": []
  }
 ],
 "metadata": {
  "kernelspec": {
   "display_name": "tango_nas",
   "language": "python",
   "name": "python3"
  },
  "language_info": {
   "name": "python",
   "version": "3.9.18"
  }
 },
 "nbformat": 4,
 "nbformat_minor": 2
}
