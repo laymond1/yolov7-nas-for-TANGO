{
 "cells": [
  {
   "attachments": {},
   "cell_type": "markdown",
   "metadata": {},
   "source": [
    "# 1. Pytorch → onnx (Done)"
   ]
  },
  {
   "cell_type": "code",
   "execution_count": 4,
   "metadata": {},
   "outputs": [
    {
     "name": "stdout",
     "output_type": "stream",
     "text": [
      "[0, 1, 3, 5]\n"
     ]
    },
    {
     "ename": "IndexError",
     "evalue": "list index out of range",
     "output_type": "error",
     "traceback": [
      "\u001b[0;31m---------------------------------------------------------------------------\u001b[0m",
      "\u001b[0;31mIndexError\u001b[0m                                Traceback (most recent call last)",
      "\u001b[0;32m/tmp/ipykernel_727362/722576975.py\u001b[0m in \u001b[0;36m<module>\u001b[0;34m\u001b[0m\n\u001b[1;32m     14\u001b[0m \u001b[0;34m\u001b[0m\u001b[0m\n\u001b[1;32m     15\u001b[0m \u001b[0msupernet\u001b[0m\u001b[0;34m.\u001b[0m\u001b[0mset_active_subnet\u001b[0m\u001b[0;34m(\u001b[0m\u001b[0;34m[\u001b[0m\u001b[0;36m5\u001b[0m\u001b[0;34m,\u001b[0m\u001b[0;36m5\u001b[0m\u001b[0;34m,\u001b[0m\u001b[0;36m5\u001b[0m\u001b[0;34m,\u001b[0m\u001b[0;36m5\u001b[0m\u001b[0;34m,\u001b[0m\u001b[0;36m7\u001b[0m\u001b[0;34m,\u001b[0m\u001b[0;36m7\u001b[0m\u001b[0;34m,\u001b[0m\u001b[0;36m7\u001b[0m\u001b[0;34m,\u001b[0m\u001b[0;36m1\u001b[0m\u001b[0;34m]\u001b[0m\u001b[0;34m)\u001b[0m\u001b[0;34m\u001b[0m\u001b[0;34m\u001b[0m\u001b[0m\n\u001b[0;32m---> 16\u001b[0;31m \u001b[0msubnet\u001b[0m \u001b[0;34m=\u001b[0m \u001b[0msupernet\u001b[0m\u001b[0;34m.\u001b[0m\u001b[0mget_active_subnet\u001b[0m\u001b[0;34m(\u001b[0m\u001b[0;34m)\u001b[0m\u001b[0;34m\u001b[0m\u001b[0;34m\u001b[0m\u001b[0m\n\u001b[0m\u001b[1;32m     17\u001b[0m \u001b[0mb_arch\u001b[0m\u001b[0;34m,\u001b[0m \u001b[0mh_arch\u001b[0m\u001b[0;34m,\u001b[0m \u001b[0msave\u001b[0m \u001b[0;34m=\u001b[0m \u001b[0msplit_backbone_head\u001b[0m\u001b[0;34m(\u001b[0m\u001b[0msubnet\u001b[0m\u001b[0;34m)\u001b[0m\u001b[0;34m\u001b[0m\u001b[0;34m\u001b[0m\u001b[0m\n\u001b[1;32m     18\u001b[0m \u001b[0mbackbone\u001b[0m \u001b[0;34m=\u001b[0m \u001b[0mskin_backbone\u001b[0m\u001b[0;34m(\u001b[0m\u001b[0mb_arch\u001b[0m\u001b[0;34m,\u001b[0m \u001b[0msave\u001b[0m\u001b[0;34m)\u001b[0m\u001b[0;34m.\u001b[0m\u001b[0meval\u001b[0m\u001b[0;34m(\u001b[0m\u001b[0;34m)\u001b[0m\u001b[0;34m\u001b[0m\u001b[0;34m\u001b[0m\u001b[0m\n",
      "\u001b[0;32m~/yolov7-nas-for-TANGO/nas/supernet/supernet_yolov7.py\u001b[0m in \u001b[0;36mget_active_subnet\u001b[0;34m(self, preserve_weight)\u001b[0m\n\u001b[1;32m    181\u001b[0m                     \u001b[0mprint\u001b[0m\u001b[0;34m(\u001b[0m\u001b[0mm\u001b[0m\u001b[0;34m.\u001b[0m\u001b[0mact_idx\u001b[0m\u001b[0;34m)\u001b[0m\u001b[0;34m\u001b[0m\u001b[0;34m\u001b[0m\u001b[0m\n\u001b[1;32m    182\u001b[0m                     \u001b[0mdepth\u001b[0m \u001b[0;34m=\u001b[0m \u001b[0mself\u001b[0m\u001b[0;34m.\u001b[0m\u001b[0mruntime_depth\u001b[0m\u001b[0;34m[\u001b[0m\u001b[0melan_idx\u001b[0m\u001b[0;34m]\u001b[0m\u001b[0;34m\u001b[0m\u001b[0;34m\u001b[0m\u001b[0m\n\u001b[0;32m--> 183\u001b[0;31m                     \u001b[0mact_idx\u001b[0m \u001b[0;34m=\u001b[0m \u001b[0mm\u001b[0m\u001b[0;34m.\u001b[0m\u001b[0mact_idx\u001b[0m\u001b[0;34m[\u001b[0m\u001b[0mdepth\u001b[0m\u001b[0;34m]\u001b[0m\u001b[0;34m\u001b[0m\u001b[0;34m\u001b[0m\u001b[0m\n\u001b[0m\u001b[1;32m    184\u001b[0m                     model[i] = ELANBlock(\n\u001b[1;32m    185\u001b[0m                         \u001b[0mm\u001b[0m\u001b[0;34m.\u001b[0m\u001b[0mmode\u001b[0m\u001b[0;34m,\u001b[0m \u001b[0mdeepcopy\u001b[0m\u001b[0;34m(\u001b[0m\u001b[0mm\u001b[0m\u001b[0;34m.\u001b[0m\u001b[0mlayers\u001b[0m\u001b[0;34m[\u001b[0m\u001b[0;34m:\u001b[0m \u001b[0mact_idx\u001b[0m \u001b[0;34m+\u001b[0m \u001b[0;36m1\u001b[0m\u001b[0;34m]\u001b[0m\u001b[0;34m)\u001b[0m\u001b[0;34m,\u001b[0m \u001b[0mdepth\u001b[0m\u001b[0;34m\u001b[0m\u001b[0;34m\u001b[0m\u001b[0m\n",
      "\u001b[0;31mIndexError\u001b[0m: list index out of range"
     ]
    }
   ],
   "source": [
    "import os\n",
    "\n",
    "os.chdir('../')\n",
    "\n",
    "import torch\n",
    "\n",
    "from latency_predictor.arch_utils import *\n",
    "\n",
    "from nas.supernet.supernet_yolov7 import YOLOSuperNet\n",
    "\n",
    "device = 'cpu'\n",
    "supernet = YOLOSuperNet(cfg='./yaml_config/yolov7_supernet.yml').to(device)\n",
    "\n",
    "supernet.set_active_subnet([5,5,5,5,7,7,7,1])\n",
    "subnet = supernet.get_active_subnet()\n",
    "b_arch, h_arch, save = split_backbone_head(subnet)\n",
    "backbone = skin_backbone(b_arch, save).eval()\n",
    "head = skin_head(h_arch, save).eval()\n",
    "\n",
    "img = torch.rand(1, 3, 640, 640).to(device)\n",
    "torch.onnx.export(backbone,\n",
    "                  img,\n",
    "                  'exported_models/backbone_5_5_5_5.onnx',\n",
    "                  export_params=True,\n",
    "                  verbose=False,\n",
    "                  opset_version=10,        \n",
    "                  do_constant_folding=False,\n",
    "                  input_names = ['input'],\n",
    "                  output_names = ['output'])\n",
    "\n",
    "img = torch.rand(1, 1024, 20, 20).to(device)\n",
    "torch.onnx.export(head,\n",
    "                  img,\n",
    "                  'exported_models/head_7_7_7_1.onnx',\n",
    "                  export_params=True,\n",
    "                  verbose=False,\n",
    "                  opset_version=10,\n",
    "                  do_constant_folding=False,\n",
    "                  input_names = ['input'],\n",
    "                  output_names = ['output'])"
   ]
  },
  {
   "cell_type": "code",
   "execution_count": null,
   "metadata": {},
   "outputs": [],
   "source": [
    "from onnxsim import simplify\n",
    "import onnx\n"
   ]
  }
 ],
 "metadata": {
  "kernelspec": {
   "display_name": "torch2tflite",
   "language": "python",
   "name": "python3"
  },
  "language_info": {
   "codemirror_mode": {
    "name": "ipython",
    "version": 3
   },
   "file_extension": ".py",
   "mimetype": "text/x-python",
   "name": "python",
   "nbconvert_exporter": "python",
   "pygments_lexer": "ipython3",
   "version": "3.7.16"
  },
  "orig_nbformat": 4
 },
 "nbformat": 4,
 "nbformat_minor": 2
}
