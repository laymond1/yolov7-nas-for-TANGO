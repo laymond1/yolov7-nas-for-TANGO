{
 "cells": [
  {
   "cell_type": "code",
   "execution_count": 1,
   "metadata": {},
   "outputs": [],
   "source": [
    "import os\n",
    "\n",
    "os.chdir('../')"
   ]
  },
  {
   "cell_type": "code",
   "execution_count": 1,
   "metadata": {},
   "outputs": [],
   "source": [
    "from nas.supernet.supernet_yolov7 import YOLOSuperNet\n",
    "from latency_predictor.arch_utils import *\n",
    "from os.path import join\n",
    "\n",
    "device = \"cpu\"\n",
    "supernet = YOLOSuperNet(cfg=\"./yaml/yolov7_dynamicsupernet.yml\").to(device)\n",
    "\n",
    "model_out_dir = \"./exported_models\"\n",
    "\n",
    "BACKBONE_MAX_DEPTH = 6  # should be 6\n",
    "\n",
    "i, j, k, m = 5, 4, 3, 5\n",
    "\n",
    "for k in range(4,6):\n",
    "    for m in range(1,6):\n",
    "        supernet.set_active_subnet([i,j,k,m,1,1,1,1]) # Maximum: [5,5,5,5,7,7,7,7]\n",
    "        subnet = supernet.get_active_subnet()\n",
    "\n",
    "        b_arch, _, save = split_backbone_head(subnet)\n",
    "\n",
    "        # .pt 저장\n",
    "        backbone = skin_backbone(b_arch, save)\n",
    "        torch.save(backbone, join(model_out_dir, f'backbone_{i}_{j}_{k}_{m}.pt'))"
   ]
  },
  {
   "cell_type": "code",
   "execution_count": 5,
   "metadata": {},
   "outputs": [],
   "source": [
    "from os.path import join\n",
    "\n",
    "from latency_predictor.arch_utils import *\n",
    "from nas.supernet.supernet_yolov7 import YOLOSuperNet\n",
    "\n",
    "device = \"cpu\"\n",
    "supernet = YOLOSuperNet(cfg=\"./yaml_config/yolov7_supernet.yml\").to(device)\n",
    "\n",
    "model_out_dir = \"./exported_models\"\n",
    "\n",
    "supernet.set_active_subnet([5,5,5,5,7,7,7,1])\n",
    "torch.save(supernet, join(model_out_dir, f'supernet_555557771.pt'))"
   ]
  },
  {
   "cell_type": "code",
   "execution_count": null,
   "metadata": {},
   "outputs": [],
   "source": []
  }
 ],
 "metadata": {
  "kernelspec": {
   "display_name": "torch2tflite",
   "language": "python",
   "name": "python3"
  },
  "language_info": {
   "codemirror_mode": {
    "name": "ipython",
    "version": 3
   },
   "file_extension": ".py",
   "mimetype": "text/x-python",
   "name": "python",
   "nbconvert_exporter": "python",
   "pygments_lexer": "ipython3",
   "version": "3.8.16"
  },
  "orig_nbformat": 4
 },
 "nbformat": 4,
 "nbformat_minor": 2
}
