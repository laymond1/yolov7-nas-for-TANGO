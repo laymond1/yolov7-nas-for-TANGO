{
 "cells": [
  {
   "attachments": {},
   "cell_type": "markdown",
   "metadata": {},
   "source": [
    "# backbone/head .pt to .tflite"
   ]
  },
  {
   "cell_type": "code",
   "execution_count": 1,
   "metadata": {},
   "outputs": [],
   "source": [
    "import os\n",
    "\n",
    "os.chdir('../')"
   ]
  },
  {
   "cell_type": "code",
   "execution_count": 2,
   "metadata": {},
   "outputs": [
    {
     "name": "stderr",
     "output_type": "stream",
     "text": [
      "/userHome/userhome1/hanyong/miniconda3/envs/torch2tflite/lib/python3.8/site-packages/tensorflow_addons/utils/tfa_eol_msg.py:23: UserWarning: \n",
      "\n",
      "TensorFlow Addons (TFA) has ended development and introduction of new features.\n",
      "TFA has entered a minimal maintenance and release mode until a planned end of life in May 2024.\n",
      "Please modify downstream libraries to take dependencies from other repositories in our TensorFlow community (e.g. Keras, Keras-CV, and Keras-NLP). \n",
      "\n",
      "For more information see: https://github.com/tensorflow/addons/issues/2807 \n",
      "\n",
      "  warnings.warn(\n"
     ]
    },
    {
     "data": {
      "application/vnd.jupyter.widget-view+json": {
       "model_id": "6875f554fd91466894325a75bfc608a7",
       "version_major": 2,
       "version_minor": 0
      },
      "text/plain": [
       "  0%|          | 0/1 [00:00<?, ?it/s]"
      ]
     },
     "metadata": {},
     "output_type": "display_data"
    },
    {
     "name": "stderr",
     "output_type": "stream",
     "text": [
      "/userHome/userhome1/hanyong/yolov7-nas-for-TANGO/nas/supernet/dynamic_layers/dynamic_op.py:246: TracerWarning: Converting a tensor to a Python boolean might cause the trace to be incorrect. We can't record the data flow of Python values, so this value will be treated as a constant in the future. This means that the trace might not generalize to other inputs!\n",
      "  if bn.num_features == feature_dim or DynamicBatchNorm2d.SET_RUNNING_STATISTICS:\n",
      "WARNING:absl:Found untraced functions such as gen_tensor_dict while saving (showing 1 of 1). These functions will not be directly callable after loading.\n"
     ]
    },
    {
     "name": "stdout",
     "output_type": "stream",
     "text": [
      "INFO:tensorflow:Assets written to: /tmp/torch2tflite/tf_model/assets\n"
     ]
    },
    {
     "name": "stderr",
     "output_type": "stream",
     "text": [
      "INFO:tensorflow:Assets written to: /tmp/torch2tflite/tf_model/assets\n",
      "INFO: Created TensorFlow Lite delegate for select TF ops.\n",
      "INFO: TfLiteFlexDelegate delegate: 0 nodes delegated out of 727 nodes with 0 partitions.\n",
      "\n",
      "INFO: Created TensorFlow Lite XNNPACK delegate for CPU.\n"
     ]
    },
    {
     "ename": "ValueError",
     "evalue": "operands could not be broadcast together with shapes (1,25200,85) (3,40,40,85) ",
     "output_type": "error",
     "traceback": [
      "\u001b[0;31m---------------------------------------------------------------------------\u001b[0m",
      "\u001b[0;31mValueError\u001b[0m                                Traceback (most recent call last)",
      "Cell \u001b[0;32mIn[2], line 31\u001b[0m\n\u001b[1;32m     28\u001b[0m file_list \u001b[39m=\u001b[39m [d \u001b[39mfor\u001b[39;00m d \u001b[39min\u001b[39;00m os\u001b[39m.\u001b[39mlistdir(out_dir) \u001b[39mif\u001b[39;00m d\u001b[39m.\u001b[39mendswith(\u001b[39m'\u001b[39m\u001b[39mpt\u001b[39m\u001b[39m'\u001b[39m)]\n\u001b[1;32m     30\u001b[0m \u001b[39mfor\u001b[39;00m torch_file \u001b[39min\u001b[39;00m tqdm(file_list):\n\u001b[0;32m---> 31\u001b[0m     arch2tflite(torch_file[:\u001b[39m-\u001b[39;49m\u001b[39m3\u001b[39;49m], out_dir)\n\u001b[1;32m     32\u001b[0m     os\u001b[39m.\u001b[39mremove(os\u001b[39m.\u001b[39mpath\u001b[39m.\u001b[39mjoin(out_dir, torch_file))\n",
      "Cell \u001b[0;32mIn[2], line 21\u001b[0m, in \u001b[0;36march2tflite\u001b[0;34m(name, out_dir)\u001b[0m\n\u001b[1;32m     14\u001b[0m     dummy_input_shape \u001b[39m=\u001b[39m (\u001b[39m1\u001b[39m, \u001b[39m1024\u001b[39m, \u001b[39m20\u001b[39m, \u001b[39m20\u001b[39m)\n\u001b[1;32m     16\u001b[0m conv \u001b[39m=\u001b[39m Torch2TFLiteConverter(\n\u001b[1;32m     17\u001b[0m     base_path \u001b[39m+\u001b[39m \u001b[39m'\u001b[39m\u001b[39m.pt\u001b[39m\u001b[39m'\u001b[39m,\n\u001b[1;32m     18\u001b[0m     base_path \u001b[39m+\u001b[39m \u001b[39m'\u001b[39m\u001b[39m.tflite\u001b[39m\u001b[39m'\u001b[39m,\n\u001b[1;32m     19\u001b[0m     target_shape \u001b[39m=\u001b[39m dummy_input_shape,\n\u001b[1;32m     20\u001b[0m )\n\u001b[0;32m---> 21\u001b[0m conv\u001b[39m.\u001b[39;49mconvert(remove_tmp_dir\u001b[39m=\u001b[39;49m\u001b[39mTrue\u001b[39;49;00m)\n",
      "File \u001b[0;32m~/yolov7-nas-for-TANGO/torch2tflite/torch2tflite/converter.py:52\u001b[0m, in \u001b[0;36mTorch2TFLiteConverter.convert\u001b[0;34m(self, remove_tmp_dir)\u001b[0m\n\u001b[1;32m     50\u001b[0m torch_output \u001b[39m=\u001b[39m \u001b[39mself\u001b[39m\u001b[39m.\u001b[39minference_torch()\n\u001b[1;32m     51\u001b[0m tflite_output \u001b[39m=\u001b[39m \u001b[39mself\u001b[39m\u001b[39m.\u001b[39minference_tflite(\u001b[39mself\u001b[39m\u001b[39m.\u001b[39mload_tflite())\n\u001b[0;32m---> 52\u001b[0m \u001b[39mself\u001b[39;49m\u001b[39m.\u001b[39;49mcalc_error(torch_output, tflite_output)\n\u001b[1;32m     54\u001b[0m \u001b[39mif\u001b[39;00m remove_tmp_dir:\n\u001b[1;32m     55\u001b[0m     \u001b[39mself\u001b[39m\u001b[39m.\u001b[39mremove_tmp_dir()\n",
      "File \u001b[0;32m~/yolov7-nas-for-TANGO/torch2tflite/torch2tflite/converter.py:203\u001b[0m, in \u001b[0;36mTorch2TFLiteConverter.calc_error\u001b[0;34m(result_torch, result_tflite)\u001b[0m\n\u001b[1;32m    201\u001b[0m \u001b[39mfor\u001b[39;00m i \u001b[39min\u001b[39;00m \u001b[39mrange\u001b[39m(\u001b[39mlen\u001b[39m(result_torch)):\n\u001b[1;32m    202\u001b[0m     result_torch_i \u001b[39m=\u001b[39m result_torch[i]\u001b[39m.\u001b[39mdetach()\u001b[39m.\u001b[39mnumpy()\n\u001b[0;32m--> 203\u001b[0m     mse \u001b[39m+\u001b[39m\u001b[39m=\u001b[39m ((result_torch_i \u001b[39m-\u001b[39;49m result_tflite[i]) \u001b[39m*\u001b[39m\u001b[39m*\u001b[39m \u001b[39m2\u001b[39m)\u001b[39m.\u001b[39mmean(axis\u001b[39m=\u001b[39m\u001b[39mNone\u001b[39;00m)\n\u001b[1;32m    204\u001b[0m     mae \u001b[39m+\u001b[39m\u001b[39m=\u001b[39m np\u001b[39m.\u001b[39mabs(result_torch_i \u001b[39m-\u001b[39m result_tflite[i])\u001b[39m.\u001b[39mmean(axis\u001b[39m=\u001b[39m\u001b[39mNone\u001b[39;00m)\n\u001b[1;32m    205\u001b[0m mse \u001b[39m/\u001b[39m\u001b[39m=\u001b[39m \u001b[39mlen\u001b[39m(result_torch)\n",
      "\u001b[0;31mValueError\u001b[0m: operands could not be broadcast together with shapes (1,25200,85) (3,40,40,85) "
     ]
    }
   ],
   "source": [
    "import os\n",
    "\n",
    "from torch2tflite.converter import Torch2TFLiteConverter\n",
    "\n",
    "os.environ['CUDA_VISIBLE_DEVICES'] = '0'\n",
    "\n",
    "def arch2tflite(name: str, out_dir: str):\n",
    "\n",
    "    base_path = os.path.join(out_dir, name)\n",
    "    \n",
    "    if 'backbone' in name or 'supernet' in name:\n",
    "        dummy_input_shape = (1, 3, 640, 640)\n",
    "    else:\n",
    "        dummy_input_shape = (1, 1024, 20, 20)\n",
    "\n",
    "    conv = Torch2TFLiteConverter(\n",
    "        base_path + '.pt',\n",
    "        base_path + '.tflite',\n",
    "        target_shape = dummy_input_shape,\n",
    "    )\n",
    "    conv.convert(remove_tmp_dir=True)\n",
    "    \n",
    "\n",
    "from tqdm.auto import tqdm\n",
    "\n",
    "out_dir = './exported_models'\n",
    "\n",
    "file_list = [d for d in os.listdir(out_dir) if d.endswith('pt')]\n",
    "\n",
    "for torch_file in tqdm(file_list):\n",
    "    arch2tflite(torch_file[:-3], out_dir)\n",
    "    os.remove(os.path.join(out_dir, torch_file))"
   ]
  },
  {
   "cell_type": "code",
   "execution_count": null,
   "metadata": {},
   "outputs": [],
   "source": []
  }
 ],
 "metadata": {
  "kernelspec": {
   "display_name": "torch2tflite",
   "language": "python",
   "name": "python3"
  },
  "language_info": {
   "codemirror_mode": {
    "name": "ipython",
    "version": 3
   },
   "file_extension": ".py",
   "mimetype": "text/x-python",
   "name": "python",
   "nbconvert_exporter": "python",
   "pygments_lexer": "ipython3",
   "version": "3.8.16"
  },
  "orig_nbformat": 4
 },
 "nbformat": 4,
 "nbformat_minor": 2
}
