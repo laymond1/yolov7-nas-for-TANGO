{
 "cells": [
  {
   "attachments": {},
   "cell_type": "markdown",
   "metadata": {},
   "source": [
    "# backbone/head .pt to .tflite"
   ]
  },
  {
   "cell_type": "code",
   "execution_count": 1,
   "metadata": {},
   "outputs": [
    {
     "name": "stderr",
     "output_type": "stream",
     "text": [
      "/userHome/userhome1/hanyong/miniconda3/envs/torch2tflite/lib/python3.8/site-packages/tensorflow_addons/utils/tfa_eol_msg.py:23: UserWarning: \n",
      "\n",
      "TensorFlow Addons (TFA) has ended development and introduction of new features.\n",
      "TFA has entered a minimal maintenance and release mode until a planned end of life in May 2024.\n",
      "Please modify downstream libraries to take dependencies from other repositories in our TensorFlow community (e.g. Keras, Keras-CV, and Keras-NLP). \n",
      "\n",
      "For more information see: https://github.com/tensorflow/addons/issues/2807 \n",
      "\n",
      "  warnings.warn(\n"
     ]
    },
    {
     "data": {
      "application/vnd.jupyter.widget-view+json": {
       "model_id": "572d9daeeab642f08af8a0242a6ed3ae",
       "version_major": 2,
       "version_minor": 0
      },
      "text/plain": [
       "  0%|          | 0/10 [00:00<?, ?it/s]"
      ]
     },
     "metadata": {},
     "output_type": "display_data"
    },
    {
     "name": "stderr",
     "output_type": "stream",
     "text": [
      "/userHome/userhome1/hanyong/yolov7-nas-for-TANGO/nas/supernet/dynamic_layers/dynamic_op.py:246: TracerWarning: Converting a tensor to a Python boolean might cause the trace to be incorrect. We can't record the data flow of Python values, so this value will be treated as a constant in the future. This means that the trace might not generalize to other inputs!\n",
      "  if bn.num_features == feature_dim or DynamicBatchNorm2d.SET_RUNNING_STATISTICS:\n",
      "WARNING:absl:Found untraced functions such as gen_tensor_dict while saving (showing 1 of 1). These functions will not be directly callable after loading.\n"
     ]
    },
    {
     "name": "stdout",
     "output_type": "stream",
     "text": [
      "INFO:tensorflow:Assets written to: /tmp/torch2tflite/tf_model/assets\n"
     ]
    },
    {
     "name": "stderr",
     "output_type": "stream",
     "text": [
      "INFO:tensorflow:Assets written to: /tmp/torch2tflite/tf_model/assets\n",
      "INFO: Created TensorFlow Lite XNNPACK delegate for CPU.\n",
      "/userHome/userhome1/hanyong/yolov7-nas-for-TANGO/nas/supernet/dynamic_layers/dynamic_op.py:246: TracerWarning: Converting a tensor to a Python boolean might cause the trace to be incorrect. We can't record the data flow of Python values, so this value will be treated as a constant in the future. This means that the trace might not generalize to other inputs!\n",
      "  if bn.num_features == feature_dim or DynamicBatchNorm2d.SET_RUNNING_STATISTICS:\n",
      "WARNING:absl:Found untraced functions such as gen_tensor_dict while saving (showing 1 of 1). These functions will not be directly callable after loading.\n"
     ]
    },
    {
     "name": "stdout",
     "output_type": "stream",
     "text": [
      "INFO:tensorflow:Assets written to: /tmp/torch2tflite/tf_model/assets\n"
     ]
    },
    {
     "name": "stderr",
     "output_type": "stream",
     "text": [
      "INFO:tensorflow:Assets written to: /tmp/torch2tflite/tf_model/assets\n",
      "/userHome/userhome1/hanyong/yolov7-nas-for-TANGO/nas/supernet/dynamic_layers/dynamic_op.py:246: TracerWarning: Converting a tensor to a Python boolean might cause the trace to be incorrect. We can't record the data flow of Python values, so this value will be treated as a constant in the future. This means that the trace might not generalize to other inputs!\n",
      "  if bn.num_features == feature_dim or DynamicBatchNorm2d.SET_RUNNING_STATISTICS:\n",
      "WARNING:absl:Found untraced functions such as gen_tensor_dict while saving (showing 1 of 1). These functions will not be directly callable after loading.\n"
     ]
    },
    {
     "name": "stdout",
     "output_type": "stream",
     "text": [
      "INFO:tensorflow:Assets written to: /tmp/torch2tflite/tf_model/assets\n"
     ]
    },
    {
     "name": "stderr",
     "output_type": "stream",
     "text": [
      "INFO:tensorflow:Assets written to: /tmp/torch2tflite/tf_model/assets\n",
      "/userHome/userhome1/hanyong/yolov7-nas-for-TANGO/nas/supernet/dynamic_layers/dynamic_op.py:246: TracerWarning: Converting a tensor to a Python boolean might cause the trace to be incorrect. We can't record the data flow of Python values, so this value will be treated as a constant in the future. This means that the trace might not generalize to other inputs!\n",
      "  if bn.num_features == feature_dim or DynamicBatchNorm2d.SET_RUNNING_STATISTICS:\n",
      "WARNING:absl:Found untraced functions such as gen_tensor_dict while saving (showing 1 of 1). These functions will not be directly callable after loading.\n"
     ]
    },
    {
     "name": "stdout",
     "output_type": "stream",
     "text": [
      "INFO:tensorflow:Assets written to: /tmp/torch2tflite/tf_model/assets\n"
     ]
    },
    {
     "name": "stderr",
     "output_type": "stream",
     "text": [
      "INFO:tensorflow:Assets written to: /tmp/torch2tflite/tf_model/assets\n",
      "/userHome/userhome1/hanyong/yolov7-nas-for-TANGO/nas/supernet/dynamic_layers/dynamic_op.py:246: TracerWarning: Converting a tensor to a Python boolean might cause the trace to be incorrect. We can't record the data flow of Python values, so this value will be treated as a constant in the future. This means that the trace might not generalize to other inputs!\n",
      "  if bn.num_features == feature_dim or DynamicBatchNorm2d.SET_RUNNING_STATISTICS:\n",
      "WARNING:absl:Found untraced functions such as gen_tensor_dict while saving (showing 1 of 1). These functions will not be directly callable after loading.\n"
     ]
    },
    {
     "name": "stdout",
     "output_type": "stream",
     "text": [
      "INFO:tensorflow:Assets written to: /tmp/torch2tflite/tf_model/assets\n"
     ]
    },
    {
     "name": "stderr",
     "output_type": "stream",
     "text": [
      "INFO:tensorflow:Assets written to: /tmp/torch2tflite/tf_model/assets\n",
      "/userHome/userhome1/hanyong/yolov7-nas-for-TANGO/nas/supernet/dynamic_layers/dynamic_op.py:246: TracerWarning: Converting a tensor to a Python boolean might cause the trace to be incorrect. We can't record the data flow of Python values, so this value will be treated as a constant in the future. This means that the trace might not generalize to other inputs!\n",
      "  if bn.num_features == feature_dim or DynamicBatchNorm2d.SET_RUNNING_STATISTICS:\n",
      "WARNING:absl:Found untraced functions such as gen_tensor_dict while saving (showing 1 of 1). These functions will not be directly callable after loading.\n"
     ]
    },
    {
     "name": "stdout",
     "output_type": "stream",
     "text": [
      "INFO:tensorflow:Assets written to: /tmp/torch2tflite/tf_model/assets\n"
     ]
    },
    {
     "name": "stderr",
     "output_type": "stream",
     "text": [
      "INFO:tensorflow:Assets written to: /tmp/torch2tflite/tf_model/assets\n",
      "/userHome/userhome1/hanyong/yolov7-nas-for-TANGO/nas/supernet/dynamic_layers/dynamic_op.py:246: TracerWarning: Converting a tensor to a Python boolean might cause the trace to be incorrect. We can't record the data flow of Python values, so this value will be treated as a constant in the future. This means that the trace might not generalize to other inputs!\n",
      "  if bn.num_features == feature_dim or DynamicBatchNorm2d.SET_RUNNING_STATISTICS:\n",
      "WARNING:absl:Found untraced functions such as gen_tensor_dict while saving (showing 1 of 1). These functions will not be directly callable after loading.\n"
     ]
    },
    {
     "name": "stdout",
     "output_type": "stream",
     "text": [
      "INFO:tensorflow:Assets written to: /tmp/torch2tflite/tf_model/assets\n"
     ]
    },
    {
     "name": "stderr",
     "output_type": "stream",
     "text": [
      "INFO:tensorflow:Assets written to: /tmp/torch2tflite/tf_model/assets\n",
      "/userHome/userhome1/hanyong/yolov7-nas-for-TANGO/nas/supernet/dynamic_layers/dynamic_op.py:246: TracerWarning: Converting a tensor to a Python boolean might cause the trace to be incorrect. We can't record the data flow of Python values, so this value will be treated as a constant in the future. This means that the trace might not generalize to other inputs!\n",
      "  if bn.num_features == feature_dim or DynamicBatchNorm2d.SET_RUNNING_STATISTICS:\n",
      "WARNING:absl:Found untraced functions such as gen_tensor_dict while saving (showing 1 of 1). These functions will not be directly callable after loading.\n"
     ]
    },
    {
     "name": "stdout",
     "output_type": "stream",
     "text": [
      "INFO:tensorflow:Assets written to: /tmp/torch2tflite/tf_model/assets\n"
     ]
    },
    {
     "name": "stderr",
     "output_type": "stream",
     "text": [
      "INFO:tensorflow:Assets written to: /tmp/torch2tflite/tf_model/assets\n",
      "/userHome/userhome1/hanyong/yolov7-nas-for-TANGO/nas/supernet/dynamic_layers/dynamic_op.py:246: TracerWarning: Converting a tensor to a Python boolean might cause the trace to be incorrect. We can't record the data flow of Python values, so this value will be treated as a constant in the future. This means that the trace might not generalize to other inputs!\n",
      "  if bn.num_features == feature_dim or DynamicBatchNorm2d.SET_RUNNING_STATISTICS:\n",
      "WARNING:absl:Found untraced functions such as gen_tensor_dict while saving (showing 1 of 1). These functions will not be directly callable after loading.\n"
     ]
    },
    {
     "name": "stdout",
     "output_type": "stream",
     "text": [
      "INFO:tensorflow:Assets written to: /tmp/torch2tflite/tf_model/assets\n"
     ]
    },
    {
     "name": "stderr",
     "output_type": "stream",
     "text": [
      "INFO:tensorflow:Assets written to: /tmp/torch2tflite/tf_model/assets\n",
      "/userHome/userhome1/hanyong/yolov7-nas-for-TANGO/nas/supernet/dynamic_layers/dynamic_op.py:246: TracerWarning: Converting a tensor to a Python boolean might cause the trace to be incorrect. We can't record the data flow of Python values, so this value will be treated as a constant in the future. This means that the trace might not generalize to other inputs!\n",
      "  if bn.num_features == feature_dim or DynamicBatchNorm2d.SET_RUNNING_STATISTICS:\n",
      "WARNING:absl:Found untraced functions such as gen_tensor_dict while saving (showing 1 of 1). These functions will not be directly callable after loading.\n"
     ]
    },
    {
     "name": "stdout",
     "output_type": "stream",
     "text": [
      "INFO:tensorflow:Assets written to: /tmp/torch2tflite/tf_model/assets\n"
     ]
    },
    {
     "name": "stderr",
     "output_type": "stream",
     "text": [
      "INFO:tensorflow:Assets written to: /tmp/torch2tflite/tf_model/assets\n"
     ]
    }
   ],
   "source": [
    "import os\n",
    "\n",
    "from torch2tflite.converter import Torch2TFLiteConverter\n",
    "\n",
    "os.environ['CUDA_VISIBLE_DEVICES'] = '0'\n",
    "\n",
    "def arch2tflite(name: str, out_dir: str):\n",
    "\n",
    "    base_path = os.path.join(out_dir, name)\n",
    "    \n",
    "    if 'backbone' in name:\n",
    "        dummy_input_shape = (1, 3, 640, 640)\n",
    "    else:\n",
    "        dummy_input_shape = (1, 1024, 20, 20)\n",
    "\n",
    "    conv = Torch2TFLiteConverter(\n",
    "        base_path + '.pt',\n",
    "        base_path + '.tflite',\n",
    "        target_shape = dummy_input_shape,\n",
    "    )\n",
    "    conv.convert(remove_tmp_dir=True)\n",
    "    \n",
    "\n",
    "from tqdm.auto import tqdm\n",
    "\n",
    "out_dir = 'exported_models'\n",
    "\n",
    "file_list = [d for d in os.listdir(out_dir) if d.endswith('pt')]\n",
    "\n",
    "for torch_file in tqdm(file_list):\n",
    "    arch2tflite(torch_file[:-3], out_dir)\n",
    "    os.remove(os.path.join(out_dir, torch_file))"
   ]
  },
  {
   "cell_type": "code",
   "execution_count": null,
   "metadata": {},
   "outputs": [],
   "source": []
  }
 ],
 "metadata": {
  "kernelspec": {
   "display_name": "torch2tflite",
   "language": "python",
   "name": "python3"
  },
  "language_info": {
   "codemirror_mode": {
    "name": "ipython",
    "version": 3
   },
   "file_extension": ".py",
   "mimetype": "text/x-python",
   "name": "python",
   "nbconvert_exporter": "python",
   "pygments_lexer": "ipython3",
   "version": "3.8.16"
  },
  "orig_nbformat": 4
 },
 "nbformat": 4,
 "nbformat_minor": 2
}
