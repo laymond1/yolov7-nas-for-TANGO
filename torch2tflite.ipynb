{
 "cells": [
  {
   "cell_type": "code",
   "execution_count": null,
   "metadata": {},
   "outputs": [],
   "source": []
  },
  {
   "cell_type": "code",
   "execution_count": null,
   "metadata": {},
   "outputs": [],
   "source": [
    "import torch\n",
    "\n",
    "model = torch.load('exported_models/head_1_1_1_1.pt')\n",
    "model.eval()\n",
    "input_tensor = torch.rand(1, 1024, 20, 20)\n",
    "with torch.no_grad():\n",
    "    out = model(input_tensor)\n",
    "torch.onnx.export(model, input_tensor, 'test.onnx')\n"
   ]
  },
  {
   "cell_type": "code",
   "execution_count": null,
   "metadata": {},
   "outputs": [],
   "source": [
    "import os\n",
    "\n",
    "from torch2tflite.converter import Torch2TFLiteConverter\n",
    "\n",
    "def arch2tflite(name: str, out_dir: str):\n",
    "\n",
    "    base_path = os.path.join(out_dir, name)\n",
    "    \n",
    "    if 'backbone' in name:\n",
    "        dummy_input_shape = (1, 3, 640, 640)\n",
    "    else:\n",
    "        dummy_input_shape = (1, 1024, 20, 20)\n",
    "\n",
    "    conv = Torch2TFLiteConverter(\n",
    "        base_path + '.pt',\n",
    "        base_path + '.tflite',\n",
    "        target_shape = dummy_input_shape,\n",
    "    )\n",
    "    conv.convert(remove_tmp_dir=True)\n",
    "    \n",
    "\n",
    "from tqdm.auto import tqdm\n",
    "\n",
    "out_dir = 'exported_models'\n",
    "\n",
    "file_list = [d for d in os.listdir(out_dir) if d.endswith('pt') and 'head' in d]\n",
    "\n",
    "for torch_file in tqdm(file_list):\n",
    "    arch2tflite(torch_file[:-3], out_dir)\n",
    "    os.remove(os.path.join(out_dir, torch_file))"
   ]
  },
  {
   "cell_type": "code",
   "execution_count": null,
   "metadata": {},
   "outputs": [],
   "source": []
  }
 ],
 "metadata": {
  "kernelspec": {
   "display_name": "torch2tflite",
   "language": "python",
   "name": "python3"
  },
  "language_info": {
   "codemirror_mode": {
    "name": "ipython",
    "version": 3
   },
   "file_extension": ".py",
   "mimetype": "text/x-python",
   "name": "python",
   "nbconvert_exporter": "python",
   "pygments_lexer": "ipython3",
   "version": "3.8.16"
  },
  "orig_nbformat": 4
 },
 "nbformat": 4,
 "nbformat_minor": 2
}
