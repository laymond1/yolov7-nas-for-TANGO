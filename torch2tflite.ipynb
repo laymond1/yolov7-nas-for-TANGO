{
 "cells": [
  {
   "attachments": {},
   "cell_type": "markdown",
   "metadata": {},
   "source": [
    "# test"
   ]
  },
  {
   "cell_type": "code",
   "execution_count": null,
   "metadata": {},
   "outputs": [],
   "source": [
    "import torch\n",
    "from nas.supernet.supernet_yolov7 import YOLOSuperNet\n",
    "from latency_predictor.arch_utils import *\n",
    "\n",
    "supernet = YOLOSuperNet(cfg='./yaml/yolov7_dynamicsupernet.yml').to('cpu')\n",
    "supernet.set_active_subnet([1,1,1,1,1,1,1,1]) # Maximum: [5,5,5,5,7,7,7,7]\n",
    "subnet = supernet.get_active_subnet()\n",
    "\n",
    "_, h_arch, save = split_backbone_head(subnet)\n",
    "\n",
    "out_path = 'exported_models/head_1_1_1_1.pt'\n",
    "\n",
    "# .pt 저장\n",
    "head = skin_head(h_arch, save)\n",
    "torch.save(head, out_path)\n",
    "\n",
    "####################################\n",
    "import onnx\n",
    "from onnx_tf.backend import prepare\n",
    "import tensorflow as tf\n",
    "\n",
    "torch_model = torch.load(out_path)\n",
    "input_tensor = torch.rand(1, 1024, 20, 20)\n",
    "onnx_model_path = \"exported_models/_test.onnx\"\n",
    "tf_model_path = \"exported_models/_test.pb\"\n",
    "tflite_model_path = \"exported_models/_test.tflite\"\n",
    "\n",
    "torch.onnx.export(\n",
    "    model=torch_model,\n",
    "    args=input_tensor,\n",
    "    f=onnx_model_path,\n",
    "    verbose=False,\n",
    "    export_params=True,\n",
    "    do_constant_folding=False,\n",
    "    input_names=[\"input\"],\n",
    "    opset_version=12,\n",
    "    output_names=[\"output\"],\n",
    ")\n",
    "\n",
    "onnx_model = onnx.load(onnx_model_path)\n",
    "onnx.checker.check_model(onnx_model)\n",
    "tf_rep = prepare(onnx_model)\n",
    "tf_rep.export_graph(tf_model_path)\n",
    "\n",
    "converter = tf.lite.TFLiteConverter.from_saved_model(tf_model_path)\n",
    "converter.target_spec.supported_ops = [\n",
    "    tf.lite.OpsSet.TFLITE_BUILTINS,  # enable TensorFlow Lite ops.\n",
    "    tf.lite.OpsSet.SELECT_TF_OPS,  # enable TensorFlow ops.\n",
    "]\n",
    "tflite_model = converter.convert()\n",
    "with open(tflite_model_path, \"wb\") as f:\n",
    "    f.write(tflite_model)\n",
    "    \n",
    "interpret = tf.lite.Interpreter(tflite_model_path)\n"
   ]
  },
  {
   "attachments": {},
   "cell_type": "markdown",
   "metadata": {},
   "source": [
    "# backbone/head .pt to .tflite"
   ]
  },
  {
   "cell_type": "code",
   "execution_count": null,
   "metadata": {},
   "outputs": [],
   "source": [
    "import os\n",
    "\n",
    "from torch2tflite.converter import Torch2TFLiteConverter\n",
    "\n",
    "os.environ['CUDA_VISIBLE_DEVICES'] = '0'\n",
    "\n",
    "def arch2tflite(name: str, out_dir: str):\n",
    "\n",
    "    base_path = os.path.join(out_dir, name)\n",
    "    \n",
    "    if 'backbone' in name:\n",
    "        dummy_input_shape = (1, 3, 640, 640)\n",
    "    else:\n",
    "        dummy_input_shape = (1, 1024, 20, 20)\n",
    "\n",
    "    conv = Torch2TFLiteConverter(\n",
    "        base_path + '.pt',\n",
    "        base_path + '.tflite',\n",
    "        target_shape = dummy_input_shape,\n",
    "    )\n",
    "    conv.convert(remove_tmp_dir=True)\n",
    "    \n",
    "\n",
    "from tqdm.auto import tqdm\n",
    "\n",
    "out_dir = 'exported_models'\n",
    "\n",
    "file_list = [d for d in os.listdir(out_dir) if d.endswith('pt') and d.startswith('head')]\n",
    "\n",
    "for torch_file in tqdm(file_list):\n",
    "    arch2tflite(torch_file[:-3], out_dir)\n",
    "    os.remove(os.path.join(out_dir, torch_file))"
   ]
  },
  {
   "cell_type": "code",
   "execution_count": null,
   "metadata": {},
   "outputs": [],
   "source": []
  }
 ],
 "metadata": {
  "kernelspec": {
   "display_name": "torch2tflite",
   "language": "python",
   "name": "python3"
  },
  "language_info": {
   "codemirror_mode": {
    "name": "ipython",
    "version": 3
   },
   "file_extension": ".py",
   "mimetype": "text/x-python",
   "name": "python",
   "nbconvert_exporter": "python",
   "pygments_lexer": "ipython3",
   "version": "3.8.16"
  },
  "orig_nbformat": 4
 },
 "nbformat": 4,
 "nbformat_minor": 2
}
