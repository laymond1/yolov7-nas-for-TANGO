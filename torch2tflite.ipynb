{
 "cells": [
  {
   "cell_type": "code",
   "execution_count": null,
   "metadata": {},
   "outputs": [],
   "source": [
    "import torch\n",
    "\n",
    "head = torch.load('exported_models/head_1_1_1_1.pt')\n",
    "out = head(torch.rand((1, 1024, 20, 20)))\n",
    "len(out)"
   ]
  },
  {
   "cell_type": "code",
   "execution_count": 3,
   "metadata": {},
   "outputs": [
    {
     "data": {
      "application/vnd.jupyter.widget-view+json": {
       "model_id": "6854376910134229922298e814cfad5d",
       "version_major": 2,
       "version_minor": 0
      },
      "text/plain": [
       "  0%|          | 0/1 [00:00<?, ?it/s]"
      ]
     },
     "metadata": {},
     "output_type": "display_data"
    },
    {
     "name": "stderr",
     "output_type": "stream",
     "text": [
      "/userHome/userhome1/hanyong/yolov7-nas-for-TANGO/nas/supernet/dynamic_layers/dynamic_op.py:246: TracerWarning: Converting a tensor to a Python boolean might cause the trace to be incorrect. We can't record the data flow of Python values, so this value will be treated as a constant in the future. This means that the trace might not generalize to other inputs!\n",
      "  if bn.num_features == feature_dim or DynamicBatchNorm2d.SET_RUNNING_STATISTICS:\n"
     ]
    },
    {
     "name": "stdout",
     "output_type": "stream",
     "text": [
      "self.stride=None\n"
     ]
    },
    {
     "ename": "TypeError",
     "evalue": "'NoneType' object is not subscriptable",
     "output_type": "error",
     "traceback": [
      "\u001b[0;31m---------------------------------------------------------------------------\u001b[0m",
      "\u001b[0;31mTypeError\u001b[0m                                 Traceback (most recent call last)",
      "Cell \u001b[0;32mIn[3], line 43\u001b[0m\n\u001b[1;32m     40\u001b[0m file_list \u001b[39m=\u001b[39m [d \u001b[39mfor\u001b[39;00m d \u001b[39min\u001b[39;00m os\u001b[39m.\u001b[39mlistdir(out_dir) \u001b[39mif\u001b[39;00m d\u001b[39m.\u001b[39mendswith(\u001b[39m'\u001b[39m\u001b[39mpt\u001b[39m\u001b[39m'\u001b[39m) \u001b[39mand\u001b[39;00m \u001b[39m'\u001b[39m\u001b[39mhead\u001b[39m\u001b[39m'\u001b[39m \u001b[39min\u001b[39;00m d]\n\u001b[1;32m     42\u001b[0m \u001b[39mfor\u001b[39;00m torch_file \u001b[39min\u001b[39;00m tqdm(file_list):\n\u001b[0;32m---> 43\u001b[0m     arch2tflite(torch_file[:\u001b[39m-\u001b[39;49m\u001b[39m3\u001b[39;49m], out_dir)\n\u001b[1;32m     44\u001b[0m     os\u001b[39m.\u001b[39mremove(os\u001b[39m.\u001b[39mpath\u001b[39m.\u001b[39mjoin(out_dir, torch_file))\n",
      "Cell \u001b[0;32mIn[3], line 19\u001b[0m, in \u001b[0;36march2tflite\u001b[0;34m(name, out_dir)\u001b[0m\n\u001b[1;32m     12\u001b[0m     dummy_input_shape \u001b[39m=\u001b[39m (\u001b[39m1\u001b[39m, \u001b[39m1024\u001b[39m, \u001b[39m20\u001b[39m, \u001b[39m20\u001b[39m)\n\u001b[1;32m     14\u001b[0m conv \u001b[39m=\u001b[39m Torch2TFLiteConverter(\n\u001b[1;32m     15\u001b[0m     base_path \u001b[39m+\u001b[39m \u001b[39m'\u001b[39m\u001b[39m.pt\u001b[39m\u001b[39m'\u001b[39m,\n\u001b[1;32m     16\u001b[0m     base_path \u001b[39m+\u001b[39m \u001b[39m'\u001b[39m\u001b[39m.tflite\u001b[39m\u001b[39m'\u001b[39m,\n\u001b[1;32m     17\u001b[0m     target_shape \u001b[39m=\u001b[39m dummy_input_shape,\n\u001b[1;32m     18\u001b[0m )\n\u001b[0;32m---> 19\u001b[0m conv\u001b[39m.\u001b[39;49mconvert(remove_tmp_dir\u001b[39m=\u001b[39;49m\u001b[39mTrue\u001b[39;49;00m)\n",
      "File \u001b[0;32m~/yolov7-nas-for-TANGO/torch2tflite/torch2tflite/converter.py:47\u001b[0m, in \u001b[0;36mTorch2TFLiteConverter.convert\u001b[0;34m(self, remove_tmp_dir)\u001b[0m\n\u001b[1;32m     46\u001b[0m \u001b[39mdef\u001b[39;00m \u001b[39mconvert\u001b[39m(\u001b[39mself\u001b[39m, remove_tmp_dir\u001b[39m=\u001b[39m\u001b[39mFalse\u001b[39;00m):\n\u001b[0;32m---> 47\u001b[0m     \u001b[39mself\u001b[39;49m\u001b[39m.\u001b[39;49mtorch2onnx()\n\u001b[1;32m     48\u001b[0m     \u001b[39mself\u001b[39m\u001b[39m.\u001b[39monnx2tf()\n\u001b[1;32m     49\u001b[0m     \u001b[39mself\u001b[39m\u001b[39m.\u001b[39mtf2tflite()\n",
      "File \u001b[0;32m~/yolov7-nas-for-TANGO/torch2tflite/torch2tflite/converter.py:151\u001b[0m, in \u001b[0;36mTorch2TFLiteConverter.torch2onnx\u001b[0;34m(self)\u001b[0m\n\u001b[1;32m    150\u001b[0m \u001b[39mdef\u001b[39;00m \u001b[39mtorch2onnx\u001b[39m(\u001b[39mself\u001b[39m) \u001b[39m-\u001b[39m\u001b[39m>\u001b[39m \u001b[39mNone\u001b[39;00m:\n\u001b[0;32m--> 151\u001b[0m     torch\u001b[39m.\u001b[39;49monnx\u001b[39m.\u001b[39;49mexport(\n\u001b[1;32m    152\u001b[0m         model\u001b[39m=\u001b[39;49m\u001b[39mself\u001b[39;49m\u001b[39m.\u001b[39;49mtorch_model,\n\u001b[1;32m    153\u001b[0m         args\u001b[39m=\u001b[39;49m\u001b[39mself\u001b[39;49m\u001b[39m.\u001b[39;49msample_data[\u001b[39m\"\u001b[39;49m\u001b[39msample_data_torch\u001b[39;49m\u001b[39m\"\u001b[39;49m],\n\u001b[1;32m    154\u001b[0m         f\u001b[39m=\u001b[39;49m\u001b[39mself\u001b[39;49m\u001b[39m.\u001b[39;49monnx_model_path,\n\u001b[1;32m    155\u001b[0m         verbose\u001b[39m=\u001b[39;49m\u001b[39mFalse\u001b[39;49;00m,\n\u001b[1;32m    156\u001b[0m         export_params\u001b[39m=\u001b[39;49m\u001b[39mTrue\u001b[39;49;00m,\n\u001b[1;32m    157\u001b[0m         do_constant_folding\u001b[39m=\u001b[39;49m\u001b[39mFalse\u001b[39;49;00m,\n\u001b[1;32m    158\u001b[0m         input_names\u001b[39m=\u001b[39;49m[\u001b[39m\"\u001b[39;49m\u001b[39minput\u001b[39;49m\u001b[39m\"\u001b[39;49m],\n\u001b[1;32m    159\u001b[0m         opset_version\u001b[39m=\u001b[39;49m\u001b[39m10\u001b[39;49m,\n\u001b[1;32m    160\u001b[0m         output_names\u001b[39m=\u001b[39;49m[\u001b[39m\"\u001b[39;49m\u001b[39moutput\u001b[39;49m\u001b[39m\"\u001b[39;49m],\n\u001b[1;32m    161\u001b[0m     )\n",
      "File \u001b[0;32m~/miniconda3/envs/torch2tflite/lib/python3.8/site-packages/torch/onnx/__init__.py:271\u001b[0m, in \u001b[0;36mexport\u001b[0;34m(model, args, f, export_params, verbose, training, input_names, output_names, aten, export_raw_ir, operator_export_type, opset_version, _retain_param_name, do_constant_folding, example_outputs, strip_doc_string, dynamic_axes, keep_initializers_as_inputs, custom_opsets, enable_onnx_checker, use_external_data_format)\u001b[0m\n\u001b[1;32m     38\u001b[0m \u001b[39m\u001b[39m\u001b[39mr\u001b[39m\u001b[39m\"\"\"\u001b[39;00m\n\u001b[1;32m     39\u001b[0m \u001b[39mExport a model into ONNX format.  This exporter runs your model\u001b[39;00m\n\u001b[1;32m     40\u001b[0m \u001b[39monce in order to get a trace of its execution to be exported;\u001b[39;00m\n\u001b[0;32m   (...)\u001b[0m\n\u001b[1;32m    267\u001b[0m \u001b[39m        than ONNX.\u001b[39;00m\n\u001b[1;32m    268\u001b[0m \u001b[39m\"\"\"\u001b[39;00m\n\u001b[1;32m    270\u001b[0m \u001b[39mfrom\u001b[39;00m \u001b[39mtorch\u001b[39;00m\u001b[39m.\u001b[39;00m\u001b[39monnx\u001b[39;00m \u001b[39mimport\u001b[39;00m utils\n\u001b[0;32m--> 271\u001b[0m \u001b[39mreturn\u001b[39;00m utils\u001b[39m.\u001b[39;49mexport(model, args, f, export_params, verbose, training,\n\u001b[1;32m    272\u001b[0m                     input_names, output_names, aten, export_raw_ir,\n\u001b[1;32m    273\u001b[0m                     operator_export_type, opset_version, _retain_param_name,\n\u001b[1;32m    274\u001b[0m                     do_constant_folding, example_outputs,\n\u001b[1;32m    275\u001b[0m                     strip_doc_string, dynamic_axes, keep_initializers_as_inputs,\n\u001b[1;32m    276\u001b[0m                     custom_opsets, enable_onnx_checker, use_external_data_format)\n",
      "File \u001b[0;32m~/miniconda3/envs/torch2tflite/lib/python3.8/site-packages/torch/onnx/utils.py:88\u001b[0m, in \u001b[0;36mexport\u001b[0;34m(model, args, f, export_params, verbose, training, input_names, output_names, aten, export_raw_ir, operator_export_type, opset_version, _retain_param_name, do_constant_folding, example_outputs, strip_doc_string, dynamic_axes, keep_initializers_as_inputs, custom_opsets, enable_onnx_checker, use_external_data_format)\u001b[0m\n\u001b[1;32m     86\u001b[0m     \u001b[39melse\u001b[39;00m:\n\u001b[1;32m     87\u001b[0m         operator_export_type \u001b[39m=\u001b[39m OperatorExportTypes\u001b[39m.\u001b[39mONNX\n\u001b[0;32m---> 88\u001b[0m _export(model, args, f, export_params, verbose, training, input_names, output_names,\n\u001b[1;32m     89\u001b[0m         operator_export_type\u001b[39m=\u001b[39;49moperator_export_type, opset_version\u001b[39m=\u001b[39;49mopset_version,\n\u001b[1;32m     90\u001b[0m         _retain_param_name\u001b[39m=\u001b[39;49m_retain_param_name, do_constant_folding\u001b[39m=\u001b[39;49mdo_constant_folding,\n\u001b[1;32m     91\u001b[0m         example_outputs\u001b[39m=\u001b[39;49mexample_outputs, strip_doc_string\u001b[39m=\u001b[39;49mstrip_doc_string,\n\u001b[1;32m     92\u001b[0m         dynamic_axes\u001b[39m=\u001b[39;49mdynamic_axes, keep_initializers_as_inputs\u001b[39m=\u001b[39;49mkeep_initializers_as_inputs,\n\u001b[1;32m     93\u001b[0m         custom_opsets\u001b[39m=\u001b[39;49mcustom_opsets, enable_onnx_checker\u001b[39m=\u001b[39;49menable_onnx_checker,\n\u001b[1;32m     94\u001b[0m         use_external_data_format\u001b[39m=\u001b[39;49muse_external_data_format)\n",
      "File \u001b[0;32m~/miniconda3/envs/torch2tflite/lib/python3.8/site-packages/torch/onnx/utils.py:694\u001b[0m, in \u001b[0;36m_export\u001b[0;34m(model, args, f, export_params, verbose, training, input_names, output_names, operator_export_type, export_type, example_outputs, opset_version, _retain_param_name, do_constant_folding, strip_doc_string, dynamic_axes, keep_initializers_as_inputs, fixed_batch_size, custom_opsets, add_node_names, enable_onnx_checker, use_external_data_format, onnx_shape_inference, use_new_jit_passes)\u001b[0m\n\u001b[1;32m    690\u001b[0m     dynamic_axes \u001b[39m=\u001b[39m {}\n\u001b[1;32m    691\u001b[0m _validate_dynamic_axes(dynamic_axes, model, input_names, output_names)\n\u001b[1;32m    693\u001b[0m graph, params_dict, torch_out \u001b[39m=\u001b[39m \\\n\u001b[0;32m--> 694\u001b[0m     _model_to_graph(model, args, verbose, input_names,\n\u001b[1;32m    695\u001b[0m                     output_names, operator_export_type,\n\u001b[1;32m    696\u001b[0m                     example_outputs, _retain_param_name,\n\u001b[1;32m    697\u001b[0m                     val_do_constant_folding,\n\u001b[1;32m    698\u001b[0m                     fixed_batch_size\u001b[39m=\u001b[39;49mfixed_batch_size,\n\u001b[1;32m    699\u001b[0m                     training\u001b[39m=\u001b[39;49mtraining,\n\u001b[1;32m    700\u001b[0m                     use_new_jit_passes\u001b[39m=\u001b[39;49muse_new_jit_passes,\n\u001b[1;32m    701\u001b[0m                     dynamic_axes\u001b[39m=\u001b[39;49mdynamic_axes)\n\u001b[1;32m    703\u001b[0m \u001b[39m# TODO: Don't allocate a in-memory string for the protobuf\u001b[39;00m\n\u001b[1;32m    704\u001b[0m defer_weight_export \u001b[39m=\u001b[39m export_type \u001b[39mis\u001b[39;00m \u001b[39mnot\u001b[39;00m ExportTypes\u001b[39m.\u001b[39mPROTOBUF_FILE\n",
      "File \u001b[0;32m~/miniconda3/envs/torch2tflite/lib/python3.8/site-packages/torch/onnx/utils.py:457\u001b[0m, in \u001b[0;36m_model_to_graph\u001b[0;34m(model, args, verbose, input_names, output_names, operator_export_type, example_outputs, _retain_param_name, do_constant_folding, _disable_torch_constant_prop, fixed_batch_size, training, use_new_jit_passes, dynamic_axes)\u001b[0m\n\u001b[1;32m    454\u001b[0m \u001b[39mif\u001b[39;00m \u001b[39misinstance\u001b[39m(example_outputs, torch\u001b[39m.\u001b[39mTensor):\n\u001b[1;32m    455\u001b[0m     example_outputs \u001b[39m=\u001b[39m (example_outputs,)\n\u001b[0;32m--> 457\u001b[0m graph, params, torch_out, module \u001b[39m=\u001b[39m _create_jit_graph(model, args,\n\u001b[1;32m    458\u001b[0m                                                      _retain_param_name,\n\u001b[1;32m    459\u001b[0m                                                      use_new_jit_passes)\n\u001b[1;32m    461\u001b[0m params_dict \u001b[39m=\u001b[39m _get_named_param_dict(graph, params)\n\u001b[1;32m    463\u001b[0m graph \u001b[39m=\u001b[39m _optimize_graph(graph, operator_export_type,\n\u001b[1;32m    464\u001b[0m                         _disable_torch_constant_prop\u001b[39m=\u001b[39m_disable_torch_constant_prop,\n\u001b[1;32m    465\u001b[0m                         fixed_batch_size\u001b[39m=\u001b[39mfixed_batch_size, params_dict\u001b[39m=\u001b[39mparams_dict,\n\u001b[1;32m    466\u001b[0m                         use_new_jit_passes\u001b[39m=\u001b[39muse_new_jit_passes,\n\u001b[1;32m    467\u001b[0m                         dynamic_axes\u001b[39m=\u001b[39mdynamic_axes, input_names\u001b[39m=\u001b[39minput_names,\n\u001b[1;32m    468\u001b[0m                         module\u001b[39m=\u001b[39mmodule)\n",
      "File \u001b[0;32m~/miniconda3/envs/torch2tflite/lib/python3.8/site-packages/torch/onnx/utils.py:420\u001b[0m, in \u001b[0;36m_create_jit_graph\u001b[0;34m(model, args, _retain_param_name, use_new_jit_passes)\u001b[0m\n\u001b[1;32m    418\u001b[0m     \u001b[39mreturn\u001b[39;00m graph, params, torch_out, \u001b[39mNone\u001b[39;00m\n\u001b[1;32m    419\u001b[0m \u001b[39melse\u001b[39;00m:\n\u001b[0;32m--> 420\u001b[0m     graph, torch_out \u001b[39m=\u001b[39m _trace_and_get_graph_from_model(model, args)\n\u001b[1;32m    421\u001b[0m     state_dict \u001b[39m=\u001b[39m _unique_state_dict(model)\n\u001b[1;32m    422\u001b[0m     params \u001b[39m=\u001b[39m \u001b[39mlist\u001b[39m(state_dict\u001b[39m.\u001b[39mvalues())\n",
      "File \u001b[0;32m~/miniconda3/envs/torch2tflite/lib/python3.8/site-packages/torch/onnx/utils.py:380\u001b[0m, in \u001b[0;36m_trace_and_get_graph_from_model\u001b[0;34m(model, args)\u001b[0m\n\u001b[1;32m    373\u001b[0m \u001b[39mdef\u001b[39;00m \u001b[39m_trace_and_get_graph_from_model\u001b[39m(model, args):\n\u001b[1;32m    374\u001b[0m \n\u001b[1;32m    375\u001b[0m     \u001b[39m# A basic sanity check: make sure the state_dict keys are the same\u001b[39;00m\n\u001b[1;32m    376\u001b[0m     \u001b[39m# before and after running the model.  Fail fast!\u001b[39;00m\n\u001b[1;32m    377\u001b[0m     orig_state_dict_keys \u001b[39m=\u001b[39m _unique_state_dict(model)\u001b[39m.\u001b[39mkeys()\n\u001b[1;32m    379\u001b[0m     trace_graph, torch_out, inputs_states \u001b[39m=\u001b[39m \\\n\u001b[0;32m--> 380\u001b[0m         torch\u001b[39m.\u001b[39;49mjit\u001b[39m.\u001b[39;49m_get_trace_graph(model, args, strict\u001b[39m=\u001b[39;49m\u001b[39mFalse\u001b[39;49;00m, _force_outplace\u001b[39m=\u001b[39;49m\u001b[39mFalse\u001b[39;49;00m, _return_inputs_states\u001b[39m=\u001b[39;49m\u001b[39mTrue\u001b[39;49;00m)\n\u001b[1;32m    381\u001b[0m     warn_on_static_input_change(inputs_states)\n\u001b[1;32m    383\u001b[0m     \u001b[39mif\u001b[39;00m orig_state_dict_keys \u001b[39m!=\u001b[39m _unique_state_dict(model)\u001b[39m.\u001b[39mkeys():\n",
      "File \u001b[0;32m~/miniconda3/envs/torch2tflite/lib/python3.8/site-packages/torch/jit/_trace.py:1139\u001b[0m, in \u001b[0;36m_get_trace_graph\u001b[0;34m(f, args, kwargs, strict, _force_outplace, return_inputs, _return_inputs_states)\u001b[0m\n\u001b[1;32m   1137\u001b[0m \u001b[39mif\u001b[39;00m \u001b[39mnot\u001b[39;00m \u001b[39misinstance\u001b[39m(args, \u001b[39mtuple\u001b[39m):\n\u001b[1;32m   1138\u001b[0m     args \u001b[39m=\u001b[39m (args,)\n\u001b[0;32m-> 1139\u001b[0m outs \u001b[39m=\u001b[39m ONNXTracedModule(f, strict, _force_outplace, return_inputs, _return_inputs_states)(\u001b[39m*\u001b[39;49margs, \u001b[39m*\u001b[39;49m\u001b[39m*\u001b[39;49mkwargs)\n\u001b[1;32m   1140\u001b[0m \u001b[39mreturn\u001b[39;00m outs\n",
      "File \u001b[0;32m~/miniconda3/envs/torch2tflite/lib/python3.8/site-packages/torch/nn/modules/module.py:889\u001b[0m, in \u001b[0;36mModule._call_impl\u001b[0;34m(self, *input, **kwargs)\u001b[0m\n\u001b[1;32m    887\u001b[0m     result \u001b[39m=\u001b[39m \u001b[39mself\u001b[39m\u001b[39m.\u001b[39m_slow_forward(\u001b[39m*\u001b[39m\u001b[39minput\u001b[39m, \u001b[39m*\u001b[39m\u001b[39m*\u001b[39mkwargs)\n\u001b[1;32m    888\u001b[0m \u001b[39melse\u001b[39;00m:\n\u001b[0;32m--> 889\u001b[0m     result \u001b[39m=\u001b[39m \u001b[39mself\u001b[39;49m\u001b[39m.\u001b[39;49mforward(\u001b[39m*\u001b[39;49m\u001b[39minput\u001b[39;49m, \u001b[39m*\u001b[39;49m\u001b[39m*\u001b[39;49mkwargs)\n\u001b[1;32m    890\u001b[0m \u001b[39mfor\u001b[39;00m hook \u001b[39min\u001b[39;00m itertools\u001b[39m.\u001b[39mchain(\n\u001b[1;32m    891\u001b[0m         _global_forward_hooks\u001b[39m.\u001b[39mvalues(),\n\u001b[1;32m    892\u001b[0m         \u001b[39mself\u001b[39m\u001b[39m.\u001b[39m_forward_hooks\u001b[39m.\u001b[39mvalues()):\n\u001b[1;32m    893\u001b[0m     hook_result \u001b[39m=\u001b[39m hook(\u001b[39mself\u001b[39m, \u001b[39minput\u001b[39m, result)\n",
      "File \u001b[0;32m~/miniconda3/envs/torch2tflite/lib/python3.8/site-packages/torch/jit/_trace.py:125\u001b[0m, in \u001b[0;36mONNXTracedModule.forward\u001b[0;34m(self, *args)\u001b[0m\n\u001b[1;32m    122\u001b[0m     \u001b[39melse\u001b[39;00m:\n\u001b[1;32m    123\u001b[0m         \u001b[39mreturn\u001b[39;00m \u001b[39mtuple\u001b[39m(out_vars)\n\u001b[0;32m--> 125\u001b[0m graph, out \u001b[39m=\u001b[39m torch\u001b[39m.\u001b[39;49m_C\u001b[39m.\u001b[39;49m_create_graph_by_tracing(\n\u001b[1;32m    126\u001b[0m     wrapper,\n\u001b[1;32m    127\u001b[0m     in_vars \u001b[39m+\u001b[39;49m module_state,\n\u001b[1;32m    128\u001b[0m     _create_interpreter_name_lookup_fn(),\n\u001b[1;32m    129\u001b[0m     \u001b[39mself\u001b[39;49m\u001b[39m.\u001b[39;49mstrict,\n\u001b[1;32m    130\u001b[0m     \u001b[39mself\u001b[39;49m\u001b[39m.\u001b[39;49m_force_outplace,\n\u001b[1;32m    131\u001b[0m )\n\u001b[1;32m    133\u001b[0m \u001b[39mif\u001b[39;00m \u001b[39mself\u001b[39m\u001b[39m.\u001b[39m_return_inputs:\n\u001b[1;32m    134\u001b[0m     \u001b[39mreturn\u001b[39;00m graph, outs[\u001b[39m0\u001b[39m], ret_inputs[\u001b[39m0\u001b[39m]\n",
      "File \u001b[0;32m~/miniconda3/envs/torch2tflite/lib/python3.8/site-packages/torch/jit/_trace.py:116\u001b[0m, in \u001b[0;36mONNXTracedModule.forward.<locals>.wrapper\u001b[0;34m(*args)\u001b[0m\n\u001b[1;32m    114\u001b[0m \u001b[39mif\u001b[39;00m \u001b[39mself\u001b[39m\u001b[39m.\u001b[39m_return_inputs_states:\n\u001b[1;32m    115\u001b[0m     inputs_states\u001b[39m.\u001b[39mappend(_unflatten(in_args, in_desc))\n\u001b[0;32m--> 116\u001b[0m outs\u001b[39m.\u001b[39mappend(\u001b[39mself\u001b[39;49m\u001b[39m.\u001b[39;49minner(\u001b[39m*\u001b[39;49mtrace_inputs))\n\u001b[1;32m    117\u001b[0m \u001b[39mif\u001b[39;00m \u001b[39mself\u001b[39m\u001b[39m.\u001b[39m_return_inputs_states:\n\u001b[1;32m    118\u001b[0m     inputs_states[\u001b[39m0\u001b[39m] \u001b[39m=\u001b[39m (inputs_states[\u001b[39m0\u001b[39m], trace_inputs)\n",
      "File \u001b[0;32m~/miniconda3/envs/torch2tflite/lib/python3.8/site-packages/torch/nn/modules/module.py:887\u001b[0m, in \u001b[0;36mModule._call_impl\u001b[0;34m(self, *input, **kwargs)\u001b[0m\n\u001b[1;32m    884\u001b[0m     \u001b[39minput\u001b[39m \u001b[39m=\u001b[39m bw_hook\u001b[39m.\u001b[39msetup_input_hook(\u001b[39minput\u001b[39m)\n\u001b[1;32m    886\u001b[0m \u001b[39mif\u001b[39;00m torch\u001b[39m.\u001b[39m_C\u001b[39m.\u001b[39m_get_tracing_state():\n\u001b[0;32m--> 887\u001b[0m     result \u001b[39m=\u001b[39m \u001b[39mself\u001b[39;49m\u001b[39m.\u001b[39;49m_slow_forward(\u001b[39m*\u001b[39;49m\u001b[39minput\u001b[39;49m, \u001b[39m*\u001b[39;49m\u001b[39m*\u001b[39;49mkwargs)\n\u001b[1;32m    888\u001b[0m \u001b[39melse\u001b[39;00m:\n\u001b[1;32m    889\u001b[0m     result \u001b[39m=\u001b[39m \u001b[39mself\u001b[39m\u001b[39m.\u001b[39mforward(\u001b[39m*\u001b[39m\u001b[39minput\u001b[39m, \u001b[39m*\u001b[39m\u001b[39m*\u001b[39mkwargs)\n",
      "File \u001b[0;32m~/miniconda3/envs/torch2tflite/lib/python3.8/site-packages/torch/nn/modules/module.py:860\u001b[0m, in \u001b[0;36mModule._slow_forward\u001b[0;34m(self, *input, **kwargs)\u001b[0m\n\u001b[1;32m    858\u001b[0m         recording_scopes \u001b[39m=\u001b[39m \u001b[39mFalse\u001b[39;00m\n\u001b[1;32m    859\u001b[0m \u001b[39mtry\u001b[39;00m:\n\u001b[0;32m--> 860\u001b[0m     result \u001b[39m=\u001b[39m \u001b[39mself\u001b[39;49m\u001b[39m.\u001b[39;49mforward(\u001b[39m*\u001b[39;49m\u001b[39minput\u001b[39;49m, \u001b[39m*\u001b[39;49m\u001b[39m*\u001b[39;49mkwargs)\n\u001b[1;32m    861\u001b[0m \u001b[39mfinally\u001b[39;00m:\n\u001b[1;32m    862\u001b[0m     \u001b[39mif\u001b[39;00m recording_scopes:\n",
      "File \u001b[0;32m~/yolov7-nas-for-TANGO/latency_predictor/arch_utils.py:38\u001b[0m, in \u001b[0;36mskin_head.forward\u001b[0;34m(self, x)\u001b[0m\n\u001b[1;32m     36\u001b[0m     \u001b[39mif\u001b[39;00m m\u001b[39m.\u001b[39mf \u001b[39m!=\u001b[39m \u001b[39m-\u001b[39m\u001b[39m1\u001b[39m:  \u001b[39m# if not from previous layer\u001b[39;00m\n\u001b[1;32m     37\u001b[0m         x \u001b[39m=\u001b[39m y[m\u001b[39m.\u001b[39mf]\u001b[39m.\u001b[39mto(device) \u001b[39mif\u001b[39;00m \u001b[39misinstance\u001b[39m(m\u001b[39m.\u001b[39mf, \u001b[39mint\u001b[39m) \u001b[39melse\u001b[39;00m [x \u001b[39mif\u001b[39;00m j \u001b[39m==\u001b[39m \u001b[39m-\u001b[39m\u001b[39m1\u001b[39m \u001b[39melse\u001b[39;00m y[j] \u001b[39mfor\u001b[39;00m j \u001b[39min\u001b[39;00m m\u001b[39m.\u001b[39mf]  \u001b[39m# from earlier layers\u001b[39;00m\n\u001b[0;32m---> 38\u001b[0m     x \u001b[39m=\u001b[39m m(x)  \u001b[39m# run\u001b[39;00m\n\u001b[1;32m     39\u001b[0m     y\u001b[39m.\u001b[39mappend(x \u001b[39mif\u001b[39;00m m\u001b[39m.\u001b[39mi \u001b[39min\u001b[39;00m \u001b[39mself\u001b[39m\u001b[39m.\u001b[39msave \u001b[39melse\u001b[39;00m \u001b[39mNone\u001b[39;00m)\n\u001b[1;32m     40\u001b[0m \u001b[39mreturn\u001b[39;00m x\n",
      "File \u001b[0;32m~/miniconda3/envs/torch2tflite/lib/python3.8/site-packages/torch/nn/modules/module.py:887\u001b[0m, in \u001b[0;36mModule._call_impl\u001b[0;34m(self, *input, **kwargs)\u001b[0m\n\u001b[1;32m    884\u001b[0m     \u001b[39minput\u001b[39m \u001b[39m=\u001b[39m bw_hook\u001b[39m.\u001b[39msetup_input_hook(\u001b[39minput\u001b[39m)\n\u001b[1;32m    886\u001b[0m \u001b[39mif\u001b[39;00m torch\u001b[39m.\u001b[39m_C\u001b[39m.\u001b[39m_get_tracing_state():\n\u001b[0;32m--> 887\u001b[0m     result \u001b[39m=\u001b[39m \u001b[39mself\u001b[39;49m\u001b[39m.\u001b[39;49m_slow_forward(\u001b[39m*\u001b[39;49m\u001b[39minput\u001b[39;49m, \u001b[39m*\u001b[39;49m\u001b[39m*\u001b[39;49mkwargs)\n\u001b[1;32m    888\u001b[0m \u001b[39melse\u001b[39;00m:\n\u001b[1;32m    889\u001b[0m     result \u001b[39m=\u001b[39m \u001b[39mself\u001b[39m\u001b[39m.\u001b[39mforward(\u001b[39m*\u001b[39m\u001b[39minput\u001b[39m, \u001b[39m*\u001b[39m\u001b[39m*\u001b[39mkwargs)\n",
      "File \u001b[0;32m~/miniconda3/envs/torch2tflite/lib/python3.8/site-packages/torch/nn/modules/module.py:860\u001b[0m, in \u001b[0;36mModule._slow_forward\u001b[0;34m(self, *input, **kwargs)\u001b[0m\n\u001b[1;32m    858\u001b[0m         recording_scopes \u001b[39m=\u001b[39m \u001b[39mFalse\u001b[39;00m\n\u001b[1;32m    859\u001b[0m \u001b[39mtry\u001b[39;00m:\n\u001b[0;32m--> 860\u001b[0m     result \u001b[39m=\u001b[39m \u001b[39mself\u001b[39;49m\u001b[39m.\u001b[39;49mforward(\u001b[39m*\u001b[39;49m\u001b[39minput\u001b[39;49m, \u001b[39m*\u001b[39;49m\u001b[39m*\u001b[39;49mkwargs)\n\u001b[1;32m    861\u001b[0m \u001b[39mfinally\u001b[39;00m:\n\u001b[1;32m    862\u001b[0m     \u001b[39mif\u001b[39;00m recording_scopes:\n",
      "File \u001b[0;32m~/yolov7-nas-for-TANGO/nas/supernet/yolo.py:188\u001b[0m, in \u001b[0;36mIDetect.forward\u001b[0;34m(self, x)\u001b[0m\n\u001b[1;32m    186\u001b[0m y \u001b[39m=\u001b[39m x[i]\u001b[39m.\u001b[39msigmoid()\n\u001b[1;32m    187\u001b[0m \u001b[39mprint\u001b[39m(\u001b[39mf\u001b[39m\u001b[39m\"\u001b[39m\u001b[39m{\u001b[39;00m\u001b[39mself\u001b[39m\u001b[39m.\u001b[39mstride\u001b[39m=}\u001b[39;00m\u001b[39m\"\u001b[39m)\n\u001b[0;32m--> 188\u001b[0m y[\u001b[39m.\u001b[39m\u001b[39m.\u001b[39m\u001b[39m.\u001b[39m, \u001b[39m0\u001b[39m:\u001b[39m2\u001b[39m] \u001b[39m=\u001b[39m (y[\u001b[39m.\u001b[39m\u001b[39m.\u001b[39m\u001b[39m.\u001b[39m, \u001b[39m0\u001b[39m:\u001b[39m2\u001b[39m] \u001b[39m*\u001b[39m \u001b[39m2.0\u001b[39m \u001b[39m-\u001b[39m \u001b[39m0.5\u001b[39m \u001b[39m+\u001b[39m \u001b[39mself\u001b[39m\u001b[39m.\u001b[39mgrid[i]) \u001b[39m*\u001b[39m \u001b[39mself\u001b[39;49m\u001b[39m.\u001b[39;49mstride[\n\u001b[1;32m    189\u001b[0m     i\n\u001b[1;32m    190\u001b[0m ]  \u001b[39m# xy\u001b[39;00m\n\u001b[1;32m    191\u001b[0m y[\u001b[39m.\u001b[39m\u001b[39m.\u001b[39m\u001b[39m.\u001b[39m, \u001b[39m2\u001b[39m:\u001b[39m4\u001b[39m] \u001b[39m=\u001b[39m (y[\u001b[39m.\u001b[39m\u001b[39m.\u001b[39m\u001b[39m.\u001b[39m, \u001b[39m2\u001b[39m:\u001b[39m4\u001b[39m] \u001b[39m*\u001b[39m \u001b[39m2\u001b[39m) \u001b[39m*\u001b[39m\u001b[39m*\u001b[39m \u001b[39m2\u001b[39m \u001b[39m*\u001b[39m \u001b[39mself\u001b[39m\u001b[39m.\u001b[39manchor_grid[i]  \u001b[39m# wh\u001b[39;00m\n\u001b[1;32m    192\u001b[0m z\u001b[39m.\u001b[39mappend(y\u001b[39m.\u001b[39mview(bs, \u001b[39m-\u001b[39m\u001b[39m1\u001b[39m, \u001b[39mself\u001b[39m\u001b[39m.\u001b[39mno))\n",
      "\u001b[0;31mTypeError\u001b[0m: 'NoneType' object is not subscriptable"
     ]
    }
   ],
   "source": [
    "import os\n",
    "\n",
    "from torch2tflite.converter import Torch2TFLiteConverter\n",
    "\n",
    "def arch2tflite(name: str, out_dir: str):\n",
    "\n",
    "    base_path = os.path.join(out_dir, name)\n",
    "    \n",
    "    if 'backbone' in name:\n",
    "        dummy_input_shape = (1, 3, 640, 640)\n",
    "    else:\n",
    "        dummy_input_shape = (1, 1024, 20, 20)\n",
    "\n",
    "    conv = Torch2TFLiteConverter(\n",
    "        base_path + '.pt',\n",
    "        base_path + '.tflite',\n",
    "        target_shape = dummy_input_shape,\n",
    "    )\n",
    "    conv.convert(remove_tmp_dir=True)\n",
    "\n",
    "\n",
    "# logging setup\n",
    "import tensorflow as tf\n",
    "tf.get_logger().setLevel('ERROR')\n",
    "\n",
    "import logging\n",
    "\n",
    "import absl.logging\n",
    "logging.root.removeHandler(absl.logging._absl_handler)\n",
    "absl.logging._warn_preinit_stderr = False\n",
    "\n",
    "logger = tf.get_logger()\n",
    "logger.setLevel(logging.FATAL)\n",
    "################\n",
    "\n",
    "from tqdm.auto import tqdm\n",
    "\n",
    "out_dir = 'exported_models'\n",
    "\n",
    "file_list = [d for d in os.listdir(out_dir) if d.endswith('pt') and 'head' in d]\n",
    "\n",
    "for torch_file in tqdm(file_list):\n",
    "    arch2tflite(torch_file[:-3], out_dir)\n",
    "    os.remove(os.path.join(out_dir, torch_file))"
   ]
  },
  {
   "cell_type": "code",
   "execution_count": null,
   "metadata": {},
   "outputs": [],
   "source": []
  }
 ],
 "metadata": {
  "kernelspec": {
   "display_name": "torch2tflite",
   "language": "python",
   "name": "python3"
  },
  "language_info": {
   "codemirror_mode": {
    "name": "ipython",
    "version": 3
   },
   "file_extension": ".py",
   "mimetype": "text/x-python",
   "name": "python",
   "nbconvert_exporter": "python",
   "pygments_lexer": "ipython3",
   "version": "3.8.16"
  },
  "orig_nbformat": 4
 },
 "nbformat": 4,
 "nbformat_minor": 2
}
