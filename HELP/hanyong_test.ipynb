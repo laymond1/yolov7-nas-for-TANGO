{
 "cells": [
  {
   "cell_type": "code",
   "execution_count": 1,
   "metadata": {},
   "outputs": [
    {
     "ename": "ImportError",
     "evalue": "cannot import name 'load_archs' from 'loader' (/userHome/userhome1/hanyong/yolov7-nas-for-TANGO/HELP/loader.py)",
     "output_type": "error",
     "traceback": [
      "\u001b[0;31m---------------------------------------------------------------------------\u001b[0m",
      "\u001b[0;31mImportError\u001b[0m                               Traceback (most recent call last)",
      "\u001b[1;32m/userHome/userhome1/hanyong/yolov7-nas-for-TANGO/HELP/hanyong_test.ipynb Cell 1\u001b[0m in \u001b[0;36m<cell line: 1>\u001b[0;34m()\u001b[0m\n\u001b[0;32m----> <a href='vscode-notebook-cell://tunnel%2Bautoml02/userHome/userhome1/hanyong/yolov7-nas-for-TANGO/HELP/hanyong_test.ipynb#W5sdnNjb2RlLXJlbW90ZQ%3D%3D?line=0'>1</a>\u001b[0m \u001b[39mfrom\u001b[39;00m \u001b[39mloader\u001b[39;00m \u001b[39mimport\u001b[39;00m load_archs\n\u001b[1;32m      <a href='vscode-notebook-cell://tunnel%2Bautoml02/userHome/userhome1/hanyong/yolov7-nas-for-TANGO/HELP/hanyong_test.ipynb#W5sdnNjb2RlLXJlbW90ZQ%3D%3D?line=1'>2</a>\u001b[0m load_archs\n",
      "\u001b[0;31mImportError\u001b[0m: cannot import name 'load_archs' from 'loader' (/userHome/userhome1/hanyong/yolov7-nas-for-TANGO/HELP/loader.py)"
     ]
    }
   ],
   "source": [
    "from loader import Data\n",
    "d = Data()"
   ]
  },
  {
   "cell_type": "code",
   "execution_count": null,
   "metadata": {},
   "outputs": [],
   "source": []
  }
 ],
 "metadata": {
  "kernelspec": {
   "display_name": "help",
   "language": "python",
   "name": "python3"
  },
  "language_info": {
   "codemirror_mode": {
    "name": "ipython",
    "version": 3
   },
   "file_extension": ".py",
   "mimetype": "text/x-python",
   "name": "python",
   "nbconvert_exporter": "python",
   "pygments_lexer": "ipython3",
   "version": "3.8.16"
  },
  "orig_nbformat": 4
 },
 "nbformat": 4,
 "nbformat_minor": 2
}
