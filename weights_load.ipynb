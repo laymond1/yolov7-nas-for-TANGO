{
 "cells": [
  {
   "cell_type": "code",
   "execution_count": 1,
   "metadata": {},
   "outputs": [
    {
     "name": "stderr",
     "output_type": "stream",
     "text": [
      "/home/heonsung/anaconda3/envs/lab/lib/python3.8/site-packages/tqdm/auto.py:21: TqdmWarning: IProgress not found. Please update jupyter and ipywidgets. See https://ipywidgets.readthedocs.io/en/stable/user_install.html\n",
      "  from .autonotebook import tqdm as notebook_tqdm\n"
     ]
    },
    {
     "ename": "ImportError",
     "evalue": "cannot import name 'TinyELAN' from 'nas.supernet.search_block' (/home/heonsung/Desktop/yolov7-nas-for-TANGO/nas/supernet/search_block.py)",
     "output_type": "error",
     "traceback": [
      "\u001b[0;31m---------------------------------------------------------------------------\u001b[0m",
      "\u001b[0;31mImportError\u001b[0m                               Traceback (most recent call last)",
      "Cell \u001b[0;32mIn[1], line 5\u001b[0m\n\u001b[1;32m      2\u001b[0m \u001b[39mimport\u001b[39;00m \u001b[39mtorch\u001b[39;00m\n\u001b[1;32m      4\u001b[0m \u001b[39mfrom\u001b[39;00m \u001b[39myolov7_utils\u001b[39;00m\u001b[39m.\u001b[39;00m\u001b[39mtorch_utils\u001b[39;00m \u001b[39mimport\u001b[39;00m is_parallel\n\u001b[0;32m----> 5\u001b[0m \u001b[39mfrom\u001b[39;00m \u001b[39mnas\u001b[39;00m\u001b[39m.\u001b[39;00m\u001b[39msupernet\u001b[39;00m\u001b[39m.\u001b[39;00m\u001b[39myolov7\u001b[39;00m \u001b[39mimport\u001b[39;00m YOLOModel\n\u001b[1;32m      6\u001b[0m \u001b[39mfrom\u001b[39;00m \u001b[39mnas\u001b[39;00m\u001b[39m.\u001b[39;00m\u001b[39msupernet\u001b[39;00m\u001b[39m.\u001b[39;00m\u001b[39msupernet_yolov7\u001b[39;00m \u001b[39mimport\u001b[39;00m YOLOSuperNet\n",
      "File \u001b[0;32m~/Desktop/yolov7-nas-for-TANGO/nas/supernet/yolov7.py:38\u001b[0m\n\u001b[1;32m     35\u001b[0m \u001b[39mfrom\u001b[39;00m \u001b[39mofa_utils\u001b[39;00m \u001b[39mimport\u001b[39;00m MyNetwork, make_divisible, MyGlobalAvgPool2d\n\u001b[1;32m     37\u001b[0m \u001b[39m## search_block.py\u001b[39;00m\n\u001b[0;32m---> 38\u001b[0m \u001b[39mfrom\u001b[39;00m \u001b[39m.\u001b[39;00m\u001b[39msearch_block\u001b[39;00m \u001b[39mimport\u001b[39;00m BBoneELAN, HeadELAN, DyConv, TinyELAN, TinyDyConv\n\u001b[1;32m     41\u001b[0m \u001b[39mclass\u001b[39;00m \u001b[39mDetect\u001b[39;00m(nn\u001b[39m.\u001b[39mModule):\n\u001b[1;32m     42\u001b[0m     stride \u001b[39m=\u001b[39m \u001b[39mNone\u001b[39;00m  \u001b[39m# strides computed during build\u001b[39;00m\n",
      "\u001b[0;31mImportError\u001b[0m: cannot import name 'TinyELAN' from 'nas.supernet.search_block' (/home/heonsung/Desktop/yolov7-nas-for-TANGO/nas/supernet/search_block.py)"
     ]
    }
   ],
   "source": [
    "from copy import deepcopy\n",
    "import torch\n",
    "\n",
    "from yolov7_utils.torch_utils import is_parallel\n",
    "from nas.supernet.yolo import YOLOModel\n",
    "from nas.supernet.supernet_yolov7 import YOLOSuperNet"
   ]
  },
  {
   "cell_type": "code",
   "execution_count": null,
   "metadata": {},
   "outputs": [],
   "source": [
    "supernet = YOLOSuperNet(cfg='./yaml/yolov7_supernet.yml', ch=3)\n",
    "net = YOLOModel(cfg='./yaml/yolov7.yaml', ch=3)"
   ]
  },
  {
   "cell_type": "code",
   "execution_count": null,
   "metadata": {},
   "outputs": [],
   "source": [
    "# It needs models module in yolov7 to load weights when it was saved.\n",
    "weights = 'yolov7.pt'\n",
    "device = 'cpu'\n",
    "ckpt = torch.load(weights, map_location=device)"
   ]
  },
  {
   "cell_type": "code",
   "execution_count": null,
   "metadata": {},
   "outputs": [],
   "source": [
    "for superkey, yolokey in zip(supernet.state_dict(), ckpt['model'].state_dict()):\n",
    "    print(f'{superkey} | {yolokey}')"
   ]
  },
  {
   "cell_type": "code",
   "execution_count": null,
   "metadata": {},
   "outputs": [],
   "source": [
    "for key in supernet.state_dict():\n",
    "    print(key)"
   ]
  },
  {
   "cell_type": "code",
   "execution_count": null,
   "metadata": {},
   "outputs": [],
   "source": [
    "# if we use IDetect layer, it has 6 more state_dict than yolov7.pt\n",
    "# because IDetect layer has 6 more parameters than Detect layer.\n",
    "len(supernet.state_dict()), len(ckpt['model'].state_dict())"
   ]
  },
  {
   "cell_type": "code",
   "execution_count": null,
   "metadata": {},
   "outputs": [],
   "source": [
    "def load_weights_from_yolo(supernet, yolo_dict):\n",
    "        super_dict = supernet.state_dict()\n",
    "\n",
    "        for superkey, yolokey in zip(super_dict, yolo_dict):\n",
    "            super_dict[superkey] = yolo_dict[yolokey] # yolo state와 supernet state 1:1 매칭\n",
    "\n",
    "        supernet.load_state_dict(super_dict) # load weight\n",
    "        print('All keys matched successfully')\n",
    "        \n",
    "        return supernet"
   ]
  },
  {
   "cell_type": "code",
   "execution_count": null,
   "metadata": {},
   "outputs": [],
   "source": [
    "supernet_weighted = load_weights_from_yolo(supernet, ckpt['model'].state_dict())"
   ]
  },
  {
   "cell_type": "code",
   "execution_count": null,
   "metadata": {},
   "outputs": [],
   "source": [
    "ckpt"
   ]
  },
  {
   "cell_type": "code",
   "execution_count": null,
   "metadata": {},
   "outputs": [],
   "source": [
    "ckpt = {\n",
    "        'model': deepcopy(supernet_weighted.module if is_parallel(supernet_weighted) else supernet_weighted).half(),\n",
    "}\n",
    "\n",
    "torch.save(ckpt, 'yolov7_supernet.pt')"
   ]
  },
  {
   "cell_type": "code",
   "execution_count": null,
   "metadata": {},
   "outputs": [],
   "source": [
    "for m in supernet_weighted.model:\n",
    "    print(m)\n",
    "    break"
   ]
  },
  {
   "cell_type": "code",
   "execution_count": null,
   "metadata": {},
   "outputs": [],
   "source": []
  },
  {
   "cell_type": "code",
   "execution_count": null,
   "metadata": {},
   "outputs": [],
   "source": [
    "torch.save(torch.load('yolov7.pt')['model'].state_dict(), 'yolov7_statedict.pt') # save yolov7 statedict\n",
    "yolo_weight = torch.load('yolov7_statedict.pt') # load yolov7 statedict"
   ]
  },
  {
   "cell_type": "code",
   "execution_count": null,
   "metadata": {},
   "outputs": [],
   "source": [
    "supernet_pt = load_weights_from_yolo(supernet, yolo_weight)"
   ]
  },
  {
   "cell_type": "code",
   "execution_count": null,
   "metadata": {},
   "outputs": [],
   "source": [
    "# check weight\n",
    "x = supernet_weighted.state_dict()['model.4.layers.1.conv.weight'].cuda()\n",
    "y = yolo_weight['model.5.conv.weight']\n",
    "\n",
    "print('Supernet BBoneELAN Conv // shape :', x.shape)\n",
    "print('weight :', x.flatten())\n",
    "print('---')\n",
    "print('YOLOv7 BBoneELAN Conv  // shape :', y.shape)\n",
    "print('weight :', y.flatten())\n",
    "print('---')\n",
    "print('Is same?: ', (x == y).flatten())"
   ]
  },
  {
   "cell_type": "code",
   "execution_count": null,
   "metadata": {},
   "outputs": [],
   "source": [
    "torch.save({'model': supernet_pt}, 'yolov7_supernet_pt.pt') # save supernet statedict"
   ]
  }
 ],
 "metadata": {
  "kernelspec": {
   "display_name": "torch",
   "language": "python",
   "name": "python3"
  },
  "language_info": {
   "codemirror_mode": {
    "name": "ipython",
    "version": 3
   },
   "file_extension": ".py",
   "mimetype": "text/x-python",
   "name": "python",
   "nbconvert_exporter": "python",
   "pygments_lexer": "ipython3",
   "version": "3.8.16"
  },
  "orig_nbformat": 4
 },
 "nbformat": 4,
 "nbformat_minor": 2
}
